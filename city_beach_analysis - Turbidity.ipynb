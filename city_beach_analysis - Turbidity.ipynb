{
 "cells": [
  {
   "cell_type": "code",
   "execution_count": 1,
   "metadata": {},
   "outputs": [],
   "source": [
    "import pandas as pd\n",
    "import matplotlib.pyplot as plt\n",
    "import numpy as np\n"
   ]
  },
  {
   "cell_type": "code",
   "execution_count": 2,
   "metadata": {},
   "outputs": [
    {
     "data": {
      "text/html": [
       "<div>\n",
       "<style scoped>\n",
       "    .dataframe tbody tr th:only-of-type {\n",
       "        vertical-align: middle;\n",
       "    }\n",
       "\n",
       "    .dataframe tbody tr th {\n",
       "        vertical-align: top;\n",
       "    }\n",
       "\n",
       "    .dataframe thead th {\n",
       "        text-align: right;\n",
       "    }\n",
       "</style>\n",
       "<table border=\"1\" class=\"dataframe\">\n",
       "  <thead>\n",
       "    <tr style=\"text-align: right;\">\n",
       "      <th></th>\n",
       "      <th>Beach Name</th>\n",
       "      <th>Measurement Timestamp</th>\n",
       "      <th>Water Temperature</th>\n",
       "      <th>Turbidity</th>\n",
       "      <th>Transducer Depth</th>\n",
       "      <th>Wave Height</th>\n",
       "      <th>Wave Period</th>\n",
       "      <th>Battery Life</th>\n",
       "      <th>Measurement Timestamp Label</th>\n",
       "      <th>Measurement ID</th>\n",
       "    </tr>\n",
       "  </thead>\n",
       "  <tbody>\n",
       "    <tr>\n",
       "      <th>0</th>\n",
       "      <td>Ohio Street Beach</td>\n",
       "      <td>6/2/19 17:00</td>\n",
       "      <td>17.1</td>\n",
       "      <td>0.78</td>\n",
       "      <td>NaN</td>\n",
       "      <td>0.232</td>\n",
       "      <td>4.0</td>\n",
       "      <td>10.9</td>\n",
       "      <td>6/2/19 17:00</td>\n",
       "      <td>OhioStreetBeach201906021700</td>\n",
       "    </tr>\n",
       "    <tr>\n",
       "      <th>1</th>\n",
       "      <td>63rd Street Beach</td>\n",
       "      <td>9/18/13 10:00</td>\n",
       "      <td>18.9</td>\n",
       "      <td>7.56</td>\n",
       "      <td>1.517</td>\n",
       "      <td>0.140</td>\n",
       "      <td>4.0</td>\n",
       "      <td>11.0</td>\n",
       "      <td>9/18/13 10:00</td>\n",
       "      <td>63rdStreetBeach201309181000</td>\n",
       "    </tr>\n",
       "    <tr>\n",
       "      <th>2</th>\n",
       "      <td>63rd Street Beach</td>\n",
       "      <td>6/12/14 12:00</td>\n",
       "      <td>25.4</td>\n",
       "      <td>3.45</td>\n",
       "      <td>-0.072</td>\n",
       "      <td>0.031</td>\n",
       "      <td>9.0</td>\n",
       "      <td>12.2</td>\n",
       "      <td>6/12/14 12:00</td>\n",
       "      <td>63rdStreetBeach201406121200</td>\n",
       "    </tr>\n",
       "    <tr>\n",
       "      <th>3</th>\n",
       "      <td>63rd Street Beach</td>\n",
       "      <td>6/12/14 13:00</td>\n",
       "      <td>18.1</td>\n",
       "      <td>3.31</td>\n",
       "      <td>1.818</td>\n",
       "      <td>0.339</td>\n",
       "      <td>10.0</td>\n",
       "      <td>12.2</td>\n",
       "      <td>6/12/14 13:00</td>\n",
       "      <td>63rdStreetBeach201406121300</td>\n",
       "    </tr>\n",
       "    <tr>\n",
       "      <th>4</th>\n",
       "      <td>63rd Street Beach</td>\n",
       "      <td>6/12/14 14:00</td>\n",
       "      <td>17.5</td>\n",
       "      <td>2.93</td>\n",
       "      <td>1.545</td>\n",
       "      <td>0.136</td>\n",
       "      <td>4.0</td>\n",
       "      <td>12.2</td>\n",
       "      <td>6/12/14 14:00</td>\n",
       "      <td>63rdStreetBeach201406121400</td>\n",
       "    </tr>\n",
       "  </tbody>\n",
       "</table>\n",
       "</div>"
      ],
      "text/plain": [
       "          Beach Name Measurement Timestamp  Water Temperature  Turbidity  \\\n",
       "0  Ohio Street Beach          6/2/19 17:00               17.1       0.78   \n",
       "1  63rd Street Beach         9/18/13 10:00               18.9       7.56   \n",
       "2  63rd Street Beach         6/12/14 12:00               25.4       3.45   \n",
       "3  63rd Street Beach         6/12/14 13:00               18.1       3.31   \n",
       "4  63rd Street Beach         6/12/14 14:00               17.5       2.93   \n",
       "\n",
       "   Transducer Depth  Wave Height  Wave Period  Battery Life  \\\n",
       "0               NaN        0.232          4.0          10.9   \n",
       "1             1.517        0.140          4.0          11.0   \n",
       "2            -0.072        0.031          9.0          12.2   \n",
       "3             1.818        0.339         10.0          12.2   \n",
       "4             1.545        0.136          4.0          12.2   \n",
       "\n",
       "  Measurement Timestamp Label               Measurement ID  \n",
       "0                6/2/19 17:00  OhioStreetBeach201906021700  \n",
       "1               9/18/13 10:00  63rdStreetBeach201309181000  \n",
       "2               6/12/14 12:00  63rdStreetBeach201406121200  \n",
       "3               6/12/14 13:00  63rdStreetBeach201406121300  \n",
       "4               6/12/14 14:00  63rdStreetBeach201406121400  "
      ]
     },
     "execution_count": 2,
     "metadata": {},
     "output_type": "execute_result"
    }
   ],
   "source": [
    "\n",
    "beach_quality_df = pd.read_csv('Resources/Beach_Water_Quality.csv')\n",
    "beach_quality_df.head()"
   ]
  },
  {
   "cell_type": "code",
   "execution_count": 3,
   "metadata": {},
   "outputs": [
    {
     "data": {
      "text/plain": [
       "0    0.78\n",
       "1    7.56\n",
       "2    3.45\n",
       "3    3.31\n",
       "4    2.93\n",
       "Name: Turbidity, dtype: float64"
      ]
     },
     "execution_count": 3,
     "metadata": {},
     "output_type": "execute_result"
    }
   ],
   "source": [
    "beach_quality_df['Turbidity'].head()"
   ]
  },
  {
   "cell_type": "code",
   "execution_count": 4,
   "metadata": {},
   "outputs": [
    {
     "data": {
      "text/plain": [
       "39469"
      ]
     },
     "execution_count": 4,
     "metadata": {},
     "output_type": "execute_result"
    }
   ],
   "source": [
    "beach_quality_df['Beach Name'].count()"
   ]
  },
  {
   "cell_type": "code",
   "execution_count": 5,
   "metadata": {},
   "outputs": [
    {
     "data": {
      "text/plain": [
       "Beach Name\n",
       "63rd Street Beach    4.313150\n",
       "Calumet Beach        1.886594\n",
       "Montrose Beach       2.898791\n",
       "Ohio Street Beach    5.951276\n",
       "Osterman Beach       8.707598\n",
       "Rainbow Beach        3.164116\n",
       "Name: Turbidity, dtype: float64"
      ]
     },
     "execution_count": 5,
     "metadata": {},
     "output_type": "execute_result"
    }
   ],
   "source": [
    "turbidity_means = beach_quality_df.groupby(\"Beach Name\")[\"Turbidity\"].mean()\n",
    "turbidity_means"
   ]
  },
  {
   "cell_type": "code",
   "execution_count": 6,
   "metadata": {},
   "outputs": [
    {
     "data": {
      "text/plain": [
       "(39469, 10)"
      ]
     },
     "execution_count": 6,
     "metadata": {},
     "output_type": "execute_result"
    }
   ],
   "source": [
    "beach_quality_df.shape"
   ]
  },
  {
   "cell_type": "code",
   "execution_count": 8,
   "metadata": {},
   "outputs": [
    {
     "data": {
      "image/png": "[encoded data removed]",
      "text/plain": [
       "<Figure size 432x288 with 1 Axes>"
      ]
     },
     "metadata": {
      "needs_background": "light"
     },
     "output_type": "display_data"
    }
   ],
   "source": [
    "x = turbidity_means.plot.bar()"
   ]
  },
  {
   "cell_type": "code",
   "execution_count": 9,
   "metadata": {},
   "outputs": [
    {
     "data": {
      "text/html": [
       "<div>\n",
       "<style scoped>\n",
       "    .dataframe tbody tr th:only-of-type {\n",
       "        vertical-align: middle;\n",
       "    }\n",
       "\n",
       "    .dataframe tbody tr th {\n",
       "        vertical-align: top;\n",
       "    }\n",
       "\n",
       "    .dataframe thead th {\n",
       "        text-align: right;\n",
       "    }\n",
       "</style>\n",
       "<table border=\"1\" class=\"dataframe\">\n",
       "  <thead>\n",
       "    <tr style=\"text-align: right;\">\n",
       "      <th></th>\n",
       "      <th>Beach Name</th>\n",
       "      <th>Measurement Timestamp</th>\n",
       "      <th>Water Temperature</th>\n",
       "      <th>Turbidity</th>\n",
       "      <th>Wave Height</th>\n",
       "      <th>Wave Period</th>\n",
       "    </tr>\n",
       "  </thead>\n",
       "  <tbody>\n",
       "    <tr>\n",
       "      <th>0</th>\n",
       "      <td>Ohio Street Beach</td>\n",
       "      <td>6/2/19 17:00</td>\n",
       "      <td>17.1</td>\n",
       "      <td>0.78</td>\n",
       "      <td>0.232</td>\n",
       "      <td>4.0</td>\n",
       "    </tr>\n",
       "    <tr>\n",
       "      <th>1</th>\n",
       "      <td>63rd Street Beach</td>\n",
       "      <td>9/18/13 10:00</td>\n",
       "      <td>18.9</td>\n",
       "      <td>7.56</td>\n",
       "      <td>0.140</td>\n",
       "      <td>4.0</td>\n",
       "    </tr>\n",
       "    <tr>\n",
       "      <th>2</th>\n",
       "      <td>63rd Street Beach</td>\n",
       "      <td>6/12/14 12:00</td>\n",
       "      <td>25.4</td>\n",
       "      <td>3.45</td>\n",
       "      <td>0.031</td>\n",
       "      <td>9.0</td>\n",
       "    </tr>\n",
       "    <tr>\n",
       "      <th>3</th>\n",
       "      <td>63rd Street Beach</td>\n",
       "      <td>6/12/14 13:00</td>\n",
       "      <td>18.1</td>\n",
       "      <td>3.31</td>\n",
       "      <td>0.339</td>\n",
       "      <td>10.0</td>\n",
       "    </tr>\n",
       "    <tr>\n",
       "      <th>4</th>\n",
       "      <td>63rd Street Beach</td>\n",
       "      <td>6/12/14 14:00</td>\n",
       "      <td>17.5</td>\n",
       "      <td>2.93</td>\n",
       "      <td>0.136</td>\n",
       "      <td>4.0</td>\n",
       "    </tr>\n",
       "  </tbody>\n",
       "</table>\n",
       "</div>"
      ],
      "text/plain": [
       "          Beach Name Measurement Timestamp  Water Temperature  Turbidity  \\\n",
       "0  Ohio Street Beach          6/2/19 17:00               17.1       0.78   \n",
       "1  63rd Street Beach         9/18/13 10:00               18.9       7.56   \n",
       "2  63rd Street Beach         6/12/14 12:00               25.4       3.45   \n",
       "3  63rd Street Beach         6/12/14 13:00               18.1       3.31   \n",
       "4  63rd Street Beach         6/12/14 14:00               17.5       2.93   \n",
       "\n",
       "   Wave Height  Wave Period  \n",
       "0        0.232          4.0  \n",
       "1        0.140          4.0  \n",
       "2        0.031          9.0  \n",
       "3        0.339         10.0  \n",
       "4        0.136          4.0  "
      ]
     },
     "execution_count": 9,
     "metadata": {},
     "output_type": "execute_result"
    }
   ],
   "source": [
    "selected_beach_quality_df = beach_quality_df[['Beach Name','Measurement Timestamp','Water Temperature','Turbidity','Wave Height', 'Wave Period']].copy()\n",
    "selected_beach_quality_df.head()"
   ]
  },
  {
   "cell_type": "code",
   "execution_count": 10,
   "metadata": {},
   "outputs": [],
   "source": [
    "result_turbidity_df = selected_beach_quality_df[['Beach Name', 'Measurement Timestamp', \"Turbidity\"]].copy().sort_values(\"Beach Name\")"
   ]
  },
  {
   "cell_type": "code",
   "execution_count": 11,
   "metadata": {},
   "outputs": [
    {
     "data": {
      "text/html": [
       "<div>\n",
       "<style scoped>\n",
       "    .dataframe tbody tr th:only-of-type {\n",
       "        vertical-align: middle;\n",
       "    }\n",
       "\n",
       "    .dataframe tbody tr th {\n",
       "        vertical-align: top;\n",
       "    }\n",
       "\n",
       "    .dataframe thead th {\n",
       "        text-align: right;\n",
       "    }\n",
       "</style>\n",
       "<table border=\"1\" class=\"dataframe\">\n",
       "  <thead>\n",
       "    <tr style=\"text-align: right;\">\n",
       "      <th></th>\n",
       "      <th>Beach Name</th>\n",
       "      <th>Measurement Timestamp</th>\n",
       "      <th>Turbidity</th>\n",
       "    </tr>\n",
       "  </thead>\n",
       "  <tbody>\n",
       "    <tr>\n",
       "      <th>2655</th>\n",
       "      <td>63rd Street Beach</td>\n",
       "      <td>8/5/15 14:00</td>\n",
       "      <td>0.52</td>\n",
       "    </tr>\n",
       "    <tr>\n",
       "      <th>2275</th>\n",
       "      <td>63rd Street Beach</td>\n",
       "      <td>7/17/15 2:00</td>\n",
       "      <td>3.07</td>\n",
       "    </tr>\n",
       "    <tr>\n",
       "      <th>2276</th>\n",
       "      <td>63rd Street Beach</td>\n",
       "      <td>7/17/15 4:00</td>\n",
       "      <td>3.61</td>\n",
       "    </tr>\n",
       "    <tr>\n",
       "      <th>2277</th>\n",
       "      <td>63rd Street Beach</td>\n",
       "      <td>7/17/15 5:00</td>\n",
       "      <td>3.76</td>\n",
       "    </tr>\n",
       "    <tr>\n",
       "      <th>2278</th>\n",
       "      <td>63rd Street Beach</td>\n",
       "      <td>7/17/15 6:00</td>\n",
       "      <td>3.95</td>\n",
       "    </tr>\n",
       "    <tr>\n",
       "      <th>...</th>\n",
       "      <td>...</td>\n",
       "      <td>...</td>\n",
       "      <td>...</td>\n",
       "    </tr>\n",
       "    <tr>\n",
       "      <th>33815</th>\n",
       "      <td>Rainbow Beach</td>\n",
       "      <td>8/8/15 10:00</td>\n",
       "      <td>0.57</td>\n",
       "    </tr>\n",
       "    <tr>\n",
       "      <th>33814</th>\n",
       "      <td>Rainbow Beach</td>\n",
       "      <td>8/8/15 9:00</td>\n",
       "      <td>0.60</td>\n",
       "    </tr>\n",
       "    <tr>\n",
       "      <th>33813</th>\n",
       "      <td>Rainbow Beach</td>\n",
       "      <td>8/8/15 8:00</td>\n",
       "      <td>0.60</td>\n",
       "    </tr>\n",
       "    <tr>\n",
       "      <th>33823</th>\n",
       "      <td>Rainbow Beach</td>\n",
       "      <td>8/8/15 18:00</td>\n",
       "      <td>3.68</td>\n",
       "    </tr>\n",
       "    <tr>\n",
       "      <th>39468</th>\n",
       "      <td>Rainbow Beach</td>\n",
       "      <td>10/1/15 7:00</td>\n",
       "      <td>0.00</td>\n",
       "    </tr>\n",
       "  </tbody>\n",
       "</table>\n",
       "<p>39469 rows × 3 columns</p>\n",
       "</div>"
      ],
      "text/plain": [
       "              Beach Name Measurement Timestamp  Turbidity\n",
       "2655   63rd Street Beach          8/5/15 14:00       0.52\n",
       "2275   63rd Street Beach          7/17/15 2:00       3.07\n",
       "2276   63rd Street Beach          7/17/15 4:00       3.61\n",
       "2277   63rd Street Beach          7/17/15 5:00       3.76\n",
       "2278   63rd Street Beach          7/17/15 6:00       3.95\n",
       "...                  ...                   ...        ...\n",
       "33815      Rainbow Beach          8/8/15 10:00       0.57\n",
       "33814      Rainbow Beach           8/8/15 9:00       0.60\n",
       "33813      Rainbow Beach           8/8/15 8:00       0.60\n",
       "33823      Rainbow Beach          8/8/15 18:00       3.68\n",
       "39468      Rainbow Beach          10/1/15 7:00       0.00\n",
       "\n",
       "[39469 rows x 3 columns]"
      ]
     },
     "execution_count": 11,
     "metadata": {},
     "output_type": "execute_result"
    }
   ],
   "source": [
    "result_turbidity_df"
   ]
  },
  {
   "cell_type": "code",
   "execution_count": 12,
   "metadata": {},
   "outputs": [
    {
     "data": {
      "text/html": [
       "<div>\n",
       "<style scoped>\n",
       "    .dataframe tbody tr th:only-of-type {\n",
       "        vertical-align: middle;\n",
       "    }\n",
       "\n",
       "    .dataframe tbody tr th {\n",
       "        vertical-align: top;\n",
       "    }\n",
       "\n",
       "    .dataframe thead th {\n",
       "        text-align: right;\n",
       "    }\n",
       "</style>\n",
       "<table border=\"1\" class=\"dataframe\">\n",
       "  <thead>\n",
       "    <tr style=\"text-align: right;\">\n",
       "      <th></th>\n",
       "      <th>Beach Name</th>\n",
       "      <th>Measurement Timestamp</th>\n",
       "      <th>Turbidity</th>\n",
       "      <th>Date</th>\n",
       "    </tr>\n",
       "  </thead>\n",
       "  <tbody>\n",
       "    <tr>\n",
       "      <th>2655</th>\n",
       "      <td>63rd Street Beach</td>\n",
       "      <td>8/5/15 14:00</td>\n",
       "      <td>0.52</td>\n",
       "      <td>2015-08-05</td>\n",
       "    </tr>\n",
       "    <tr>\n",
       "      <th>2275</th>\n",
       "      <td>63rd Street Beach</td>\n",
       "      <td>7/17/15 2:00</td>\n",
       "      <td>3.07</td>\n",
       "      <td>2015-07-17</td>\n",
       "    </tr>\n",
       "    <tr>\n",
       "      <th>2276</th>\n",
       "      <td>63rd Street Beach</td>\n",
       "      <td>7/17/15 4:00</td>\n",
       "      <td>3.61</td>\n",
       "      <td>2015-07-17</td>\n",
       "    </tr>\n",
       "    <tr>\n",
       "      <th>2277</th>\n",
       "      <td>63rd Street Beach</td>\n",
       "      <td>7/17/15 5:00</td>\n",
       "      <td>3.76</td>\n",
       "      <td>2015-07-17</td>\n",
       "    </tr>\n",
       "    <tr>\n",
       "      <th>2278</th>\n",
       "      <td>63rd Street Beach</td>\n",
       "      <td>7/17/15 6:00</td>\n",
       "      <td>3.95</td>\n",
       "      <td>2015-07-17</td>\n",
       "    </tr>\n",
       "    <tr>\n",
       "      <th>...</th>\n",
       "      <td>...</td>\n",
       "      <td>...</td>\n",
       "      <td>...</td>\n",
       "      <td>...</td>\n",
       "    </tr>\n",
       "    <tr>\n",
       "      <th>33815</th>\n",
       "      <td>Rainbow Beach</td>\n",
       "      <td>8/8/15 10:00</td>\n",
       "      <td>0.57</td>\n",
       "      <td>2015-08-08</td>\n",
       "    </tr>\n",
       "    <tr>\n",
       "      <th>33814</th>\n",
       "      <td>Rainbow Beach</td>\n",
       "      <td>8/8/15 9:00</td>\n",
       "      <td>0.60</td>\n",
       "      <td>2015-08-08</td>\n",
       "    </tr>\n",
       "    <tr>\n",
       "      <th>33813</th>\n",
       "      <td>Rainbow Beach</td>\n",
       "      <td>8/8/15 8:00</td>\n",
       "      <td>0.60</td>\n",
       "      <td>2015-08-08</td>\n",
       "    </tr>\n",
       "    <tr>\n",
       "      <th>33823</th>\n",
       "      <td>Rainbow Beach</td>\n",
       "      <td>8/8/15 18:00</td>\n",
       "      <td>3.68</td>\n",
       "      <td>2015-08-08</td>\n",
       "    </tr>\n",
       "    <tr>\n",
       "      <th>39468</th>\n",
       "      <td>Rainbow Beach</td>\n",
       "      <td>10/1/15 7:00</td>\n",
       "      <td>0.00</td>\n",
       "      <td>2015-10-01</td>\n",
       "    </tr>\n",
       "  </tbody>\n",
       "</table>\n",
       "<p>39469 rows × 4 columns</p>\n",
       "</div>"
      ],
      "text/plain": [
       "              Beach Name Measurement Timestamp  Turbidity        Date\n",
       "2655   63rd Street Beach          8/5/15 14:00       0.52  2015-08-05\n",
       "2275   63rd Street Beach          7/17/15 2:00       3.07  2015-07-17\n",
       "2276   63rd Street Beach          7/17/15 4:00       3.61  2015-07-17\n",
       "2277   63rd Street Beach          7/17/15 5:00       3.76  2015-07-17\n",
       "2278   63rd Street Beach          7/17/15 6:00       3.95  2015-07-17\n",
       "...                  ...                   ...        ...         ...\n",
       "33815      Rainbow Beach          8/8/15 10:00       0.57  2015-08-08\n",
       "33814      Rainbow Beach           8/8/15 9:00       0.60  2015-08-08\n",
       "33813      Rainbow Beach           8/8/15 8:00       0.60  2015-08-08\n",
       "33823      Rainbow Beach          8/8/15 18:00       3.68  2015-08-08\n",
       "39468      Rainbow Beach          10/1/15 7:00       0.00  2015-10-01\n",
       "\n",
       "[39469 rows x 4 columns]"
      ]
     },
     "execution_count": 12,
     "metadata": {},
     "output_type": "execute_result"
    }
   ],
   "source": [
    "result_turbidity_df[\"Date\"] = pd.to_datetime(result_turbidity_df[\"Measurement Timestamp\"]).dt.date\n",
    "result_turbidity_df"
   ]
  },
  {
   "cell_type": "code",
   "execution_count": 13,
   "metadata": {},
   "outputs": [],
   "source": [
    "result_turbidity_df['Date']= pd.to_datetime(result_turbidity_df['Date']) "
   ]
  },
  {
   "cell_type": "code",
   "execution_count": 15,
   "metadata": {},
   "outputs": [
    {
     "name": "stdout",
     "output_type": "stream",
     "text": [
      "<class 'pandas.core.frame.DataFrame'>\n",
      "Int64Index: 39469 entries, 2655 to 39468\n",
      "Data columns (total 4 columns):\n",
      " #   Column                 Non-Null Count  Dtype         \n",
      "---  ------                 --------------  -----         \n",
      " 0   Beach Name             39469 non-null  object        \n",
      " 1   Measurement Timestamp  39469 non-null  object        \n",
      " 2   Turbidity              39469 non-null  float64       \n",
      " 3   Date                   39469 non-null  datetime64[ns]\n",
      "dtypes: datetime64[ns](1), float64(1), object(2)\n",
      "memory usage: 1.5+ MB\n"
     ]
    },
    {
     "data": {
      "text/html": [
       "<div>\n",
       "<style scoped>\n",
       "    .dataframe tbody tr th:only-of-type {\n",
       "        vertical-align: middle;\n",
       "    }\n",
       "\n",
       "    .dataframe tbody tr th {\n",
       "        vertical-align: top;\n",
       "    }\n",
       "\n",
       "    .dataframe thead th {\n",
       "        text-align: right;\n",
       "    }\n",
       "</style>\n",
       "<table border=\"1\" class=\"dataframe\">\n",
       "  <thead>\n",
       "    <tr style=\"text-align: right;\">\n",
       "      <th></th>\n",
       "      <th>Beach Name</th>\n",
       "      <th>Measurement Timestamp</th>\n",
       "      <th>Turbidity</th>\n",
       "      <th>Date</th>\n",
       "    </tr>\n",
       "  </thead>\n",
       "  <tbody>\n",
       "    <tr>\n",
       "      <th>2655</th>\n",
       "      <td>63rd Street Beach</td>\n",
       "      <td>8/5/15 14:00</td>\n",
       "      <td>0.52</td>\n",
       "      <td>2015-08-05</td>\n",
       "    </tr>\n",
       "    <tr>\n",
       "      <th>2275</th>\n",
       "      <td>63rd Street Beach</td>\n",
       "      <td>7/17/15 2:00</td>\n",
       "      <td>3.07</td>\n",
       "      <td>2015-07-17</td>\n",
       "    </tr>\n",
       "    <tr>\n",
       "      <th>2276</th>\n",
       "      <td>63rd Street Beach</td>\n",
       "      <td>7/17/15 4:00</td>\n",
       "      <td>3.61</td>\n",
       "      <td>2015-07-17</td>\n",
       "    </tr>\n",
       "    <tr>\n",
       "      <th>2277</th>\n",
       "      <td>63rd Street Beach</td>\n",
       "      <td>7/17/15 5:00</td>\n",
       "      <td>3.76</td>\n",
       "      <td>2015-07-17</td>\n",
       "    </tr>\n",
       "    <tr>\n",
       "      <th>2278</th>\n",
       "      <td>63rd Street Beach</td>\n",
       "      <td>7/17/15 6:00</td>\n",
       "      <td>3.95</td>\n",
       "      <td>2015-07-17</td>\n",
       "    </tr>\n",
       "    <tr>\n",
       "      <th>...</th>\n",
       "      <td>...</td>\n",
       "      <td>...</td>\n",
       "      <td>...</td>\n",
       "      <td>...</td>\n",
       "    </tr>\n",
       "    <tr>\n",
       "      <th>33815</th>\n",
       "      <td>Rainbow Beach</td>\n",
       "      <td>8/8/15 10:00</td>\n",
       "      <td>0.57</td>\n",
       "      <td>2015-08-08</td>\n",
       "    </tr>\n",
       "    <tr>\n",
       "      <th>33814</th>\n",
       "      <td>Rainbow Beach</td>\n",
       "      <td>8/8/15 9:00</td>\n",
       "      <td>0.60</td>\n",
       "      <td>2015-08-08</td>\n",
       "    </tr>\n",
       "    <tr>\n",
       "      <th>33813</th>\n",
       "      <td>Rainbow Beach</td>\n",
       "      <td>8/8/15 8:00</td>\n",
       "      <td>0.60</td>\n",
       "      <td>2015-08-08</td>\n",
       "    </tr>\n",
       "    <tr>\n",
       "      <th>33823</th>\n",
       "      <td>Rainbow Beach</td>\n",
       "      <td>8/8/15 18:00</td>\n",
       "      <td>3.68</td>\n",
       "      <td>2015-08-08</td>\n",
       "    </tr>\n",
       "    <tr>\n",
       "      <th>39468</th>\n",
       "      <td>Rainbow Beach</td>\n",
       "      <td>10/1/15 7:00</td>\n",
       "      <td>0.00</td>\n",
       "      <td>2015-10-01</td>\n",
       "    </tr>\n",
       "  </tbody>\n",
       "</table>\n",
       "<p>39469 rows × 4 columns</p>\n",
       "</div>"
      ],
      "text/plain": [
       "              Beach Name Measurement Timestamp  Turbidity       Date\n",
       "2655   63rd Street Beach          8/5/15 14:00       0.52 2015-08-05\n",
       "2275   63rd Street Beach          7/17/15 2:00       3.07 2015-07-17\n",
       "2276   63rd Street Beach          7/17/15 4:00       3.61 2015-07-17\n",
       "2277   63rd Street Beach          7/17/15 5:00       3.76 2015-07-17\n",
       "2278   63rd Street Beach          7/17/15 6:00       3.95 2015-07-17\n",
       "...                  ...                   ...        ...        ...\n",
       "33815      Rainbow Beach          8/8/15 10:00       0.57 2015-08-08\n",
       "33814      Rainbow Beach           8/8/15 9:00       0.60 2015-08-08\n",
       "33813      Rainbow Beach           8/8/15 8:00       0.60 2015-08-08\n",
       "33823      Rainbow Beach          8/8/15 18:00       3.68 2015-08-08\n",
       "39468      Rainbow Beach          10/1/15 7:00       0.00 2015-10-01\n",
       "\n",
       "[39469 rows x 4 columns]"
      ]
     },
     "execution_count": 15,
     "metadata": {},
     "output_type": "execute_result"
    }
   ],
   "source": [
    "result_turbidity_df.info()\n",
    "result_turbidity_df"
   ]
  },
  {
   "cell_type": "code",
   "execution_count": 16,
   "metadata": {},
   "outputs": [],
   "source": [
    "result_turbidity_2014_df = result_turbidity_df[(result_turbidity_df['Date'] > '12/31/2013') & (result_turbidity_df['Date'] < '01/01/2015')]\n",
    "result_turbidity_2015_df = result_turbidity_df[(result_turbidity_df['Date'] > '12/31/2014') & (result_turbidity_df['Date'] < '01/01/2016')]\n",
    "result_turbidity_2016_df = result_turbidity_df[(result_turbidity_df['Date'] > '12/31/2015') & (result_turbidity_df['Date'] < '01/01/2017')]\n",
    "result_turbidity_2017_df = result_turbidity_df[(result_turbidity_df['Date'] > '12/31/2016') & (result_turbidity_df['Date'] < '01/01/2018')]\n",
    "result_turbidity_2018_df = result_turbidity_df[(result_turbidity_df['Date'] > '12/31/2017') & (result_turbidity_df['Date'] < '01/01/2019')]\n",
    "result_turbidity_2019_df = result_turbidity_df[(result_turbidity_df['Date'] > '12/31/2018') & (result_turbidity_df['Date'] < '01/01/2020')]"
   ]
  },
  {
   "cell_type": "code",
   "execution_count": 17,
   "metadata": {},
   "outputs": [
    {
     "data": {
      "text/html": [
       "<div>\n",
       "<style scoped>\n",
       "    .dataframe tbody tr th:only-of-type {\n",
       "        vertical-align: middle;\n",
       "    }\n",
       "\n",
       "    .dataframe tbody tr th {\n",
       "        vertical-align: top;\n",
       "    }\n",
       "\n",
       "    .dataframe thead th {\n",
       "        text-align: right;\n",
       "    }\n",
       "</style>\n",
       "<table border=\"1\" class=\"dataframe\">\n",
       "  <thead>\n",
       "    <tr style=\"text-align: right;\">\n",
       "      <th></th>\n",
       "      <th>Beach Name</th>\n",
       "      <th>Measurement Timestamp</th>\n",
       "      <th>Turbidity</th>\n",
       "      <th>Date</th>\n",
       "    </tr>\n",
       "  </thead>\n",
       "  <tbody>\n",
       "    <tr>\n",
       "      <th>563</th>\n",
       "      <td>63rd Street Beach</td>\n",
       "      <td>7/6/14 10:00</td>\n",
       "      <td>0.47</td>\n",
       "      <td>2014-07-06</td>\n",
       "    </tr>\n",
       "    <tr>\n",
       "      <th>564</th>\n",
       "      <td>63rd Street Beach</td>\n",
       "      <td>7/6/14 11:00</td>\n",
       "      <td>0.45</td>\n",
       "      <td>2014-07-06</td>\n",
       "    </tr>\n",
       "    <tr>\n",
       "      <th>565</th>\n",
       "      <td>63rd Street Beach</td>\n",
       "      <td>7/6/14 12:00</td>\n",
       "      <td>0.66</td>\n",
       "      <td>2014-07-06</td>\n",
       "    </tr>\n",
       "    <tr>\n",
       "      <th>566</th>\n",
       "      <td>63rd Street Beach</td>\n",
       "      <td>7/6/14 13:00</td>\n",
       "      <td>0.87</td>\n",
       "      <td>2014-07-06</td>\n",
       "    </tr>\n",
       "    <tr>\n",
       "      <th>567</th>\n",
       "      <td>63rd Street Beach</td>\n",
       "      <td>7/6/14 14:00</td>\n",
       "      <td>0.62</td>\n",
       "      <td>2014-07-06</td>\n",
       "    </tr>\n",
       "    <tr>\n",
       "      <th>...</th>\n",
       "      <td>...</td>\n",
       "      <td>...</td>\n",
       "      <td>...</td>\n",
       "      <td>...</td>\n",
       "    </tr>\n",
       "    <tr>\n",
       "      <th>32167</th>\n",
       "      <td>Rainbow Beach</td>\n",
       "      <td>7/7/14 8:00</td>\n",
       "      <td>0.88</td>\n",
       "      <td>2014-07-07</td>\n",
       "    </tr>\n",
       "    <tr>\n",
       "      <th>32166</th>\n",
       "      <td>Rainbow Beach</td>\n",
       "      <td>7/7/14 7:00</td>\n",
       "      <td>0.90</td>\n",
       "      <td>2014-07-07</td>\n",
       "    </tr>\n",
       "    <tr>\n",
       "      <th>32165</th>\n",
       "      <td>Rainbow Beach</td>\n",
       "      <td>7/7/14 6:00</td>\n",
       "      <td>0.94</td>\n",
       "      <td>2014-07-07</td>\n",
       "    </tr>\n",
       "    <tr>\n",
       "      <th>32164</th>\n",
       "      <td>Rainbow Beach</td>\n",
       "      <td>7/7/14 5:00</td>\n",
       "      <td>0.72</td>\n",
       "      <td>2014-07-07</td>\n",
       "    </tr>\n",
       "    <tr>\n",
       "      <th>32174</th>\n",
       "      <td>Rainbow Beach</td>\n",
       "      <td>7/7/14 16:00</td>\n",
       "      <td>0.71</td>\n",
       "      <td>2014-07-07</td>\n",
       "    </tr>\n",
       "  </tbody>\n",
       "</table>\n",
       "<p>10256 rows × 4 columns</p>\n",
       "</div>"
      ],
      "text/plain": [
       "              Beach Name Measurement Timestamp  Turbidity       Date\n",
       "563    63rd Street Beach          7/6/14 10:00       0.47 2014-07-06\n",
       "564    63rd Street Beach          7/6/14 11:00       0.45 2014-07-06\n",
       "565    63rd Street Beach          7/6/14 12:00       0.66 2014-07-06\n",
       "566    63rd Street Beach          7/6/14 13:00       0.87 2014-07-06\n",
       "567    63rd Street Beach          7/6/14 14:00       0.62 2014-07-06\n",
       "...                  ...                   ...        ...        ...\n",
       "32167      Rainbow Beach           7/7/14 8:00       0.88 2014-07-07\n",
       "32166      Rainbow Beach           7/7/14 7:00       0.90 2014-07-07\n",
       "32165      Rainbow Beach           7/7/14 6:00       0.94 2014-07-07\n",
       "32164      Rainbow Beach           7/7/14 5:00       0.72 2014-07-07\n",
       "32174      Rainbow Beach          7/7/14 16:00       0.71 2014-07-07\n",
       "\n",
       "[10256 rows x 4 columns]"
      ]
     },
     "execution_count": 17,
     "metadata": {},
     "output_type": "execute_result"
    }
   ],
   "source": [
    "result_turbidity_2014_df"
   ]
  },
  {
   "cell_type": "code",
   "execution_count": 18,
   "metadata": {},
   "outputs": [
    {
     "data": {
      "text/html": [
       "<div>\n",
       "<style scoped>\n",
       "    .dataframe tbody tr th:only-of-type {\n",
       "        vertical-align: middle;\n",
       "    }\n",
       "\n",
       "    .dataframe tbody tr th {\n",
       "        vertical-align: top;\n",
       "    }\n",
       "\n",
       "    .dataframe thead th {\n",
       "        text-align: right;\n",
       "    }\n",
       "</style>\n",
       "<table border=\"1\" class=\"dataframe\">\n",
       "  <thead>\n",
       "    <tr style=\"text-align: right;\">\n",
       "      <th></th>\n",
       "      <th>Beach Name</th>\n",
       "      <th>Measurement Timestamp</th>\n",
       "      <th>Turbidity</th>\n",
       "      <th>Date</th>\n",
       "    </tr>\n",
       "  </thead>\n",
       "  <tbody>\n",
       "    <tr>\n",
       "      <th>2655</th>\n",
       "      <td>63rd Street Beach</td>\n",
       "      <td>8/5/15 14:00</td>\n",
       "      <td>0.52</td>\n",
       "      <td>2015-08-05</td>\n",
       "    </tr>\n",
       "    <tr>\n",
       "      <th>2275</th>\n",
       "      <td>63rd Street Beach</td>\n",
       "      <td>7/17/15 2:00</td>\n",
       "      <td>3.07</td>\n",
       "      <td>2015-07-17</td>\n",
       "    </tr>\n",
       "    <tr>\n",
       "      <th>2276</th>\n",
       "      <td>63rd Street Beach</td>\n",
       "      <td>7/17/15 4:00</td>\n",
       "      <td>3.61</td>\n",
       "      <td>2015-07-17</td>\n",
       "    </tr>\n",
       "    <tr>\n",
       "      <th>2277</th>\n",
       "      <td>63rd Street Beach</td>\n",
       "      <td>7/17/15 5:00</td>\n",
       "      <td>3.76</td>\n",
       "      <td>2015-07-17</td>\n",
       "    </tr>\n",
       "    <tr>\n",
       "      <th>2278</th>\n",
       "      <td>63rd Street Beach</td>\n",
       "      <td>7/17/15 6:00</td>\n",
       "      <td>3.95</td>\n",
       "      <td>2015-07-17</td>\n",
       "    </tr>\n",
       "    <tr>\n",
       "      <th>...</th>\n",
       "      <td>...</td>\n",
       "      <td>...</td>\n",
       "      <td>...</td>\n",
       "      <td>...</td>\n",
       "    </tr>\n",
       "    <tr>\n",
       "      <th>33815</th>\n",
       "      <td>Rainbow Beach</td>\n",
       "      <td>8/8/15 10:00</td>\n",
       "      <td>0.57</td>\n",
       "      <td>2015-08-08</td>\n",
       "    </tr>\n",
       "    <tr>\n",
       "      <th>33814</th>\n",
       "      <td>Rainbow Beach</td>\n",
       "      <td>8/8/15 9:00</td>\n",
       "      <td>0.60</td>\n",
       "      <td>2015-08-08</td>\n",
       "    </tr>\n",
       "    <tr>\n",
       "      <th>33813</th>\n",
       "      <td>Rainbow Beach</td>\n",
       "      <td>8/8/15 8:00</td>\n",
       "      <td>0.60</td>\n",
       "      <td>2015-08-08</td>\n",
       "    </tr>\n",
       "    <tr>\n",
       "      <th>33823</th>\n",
       "      <td>Rainbow Beach</td>\n",
       "      <td>8/8/15 18:00</td>\n",
       "      <td>3.68</td>\n",
       "      <td>2015-08-08</td>\n",
       "    </tr>\n",
       "    <tr>\n",
       "      <th>39468</th>\n",
       "      <td>Rainbow Beach</td>\n",
       "      <td>10/1/15 7:00</td>\n",
       "      <td>0.00</td>\n",
       "      <td>2015-10-01</td>\n",
       "    </tr>\n",
       "  </tbody>\n",
       "</table>\n",
       "<p>14341 rows × 4 columns</p>\n",
       "</div>"
      ],
      "text/plain": [
       "              Beach Name Measurement Timestamp  Turbidity       Date\n",
       "2655   63rd Street Beach          8/5/15 14:00       0.52 2015-08-05\n",
       "2275   63rd Street Beach          7/17/15 2:00       3.07 2015-07-17\n",
       "2276   63rd Street Beach          7/17/15 4:00       3.61 2015-07-17\n",
       "2277   63rd Street Beach          7/17/15 5:00       3.76 2015-07-17\n",
       "2278   63rd Street Beach          7/17/15 6:00       3.95 2015-07-17\n",
       "...                  ...                   ...        ...        ...\n",
       "33815      Rainbow Beach          8/8/15 10:00       0.57 2015-08-08\n",
       "33814      Rainbow Beach           8/8/15 9:00       0.60 2015-08-08\n",
       "33813      Rainbow Beach           8/8/15 8:00       0.60 2015-08-08\n",
       "33823      Rainbow Beach          8/8/15 18:00       3.68 2015-08-08\n",
       "39468      Rainbow Beach          10/1/15 7:00       0.00 2015-10-01\n",
       "\n",
       "[14341 rows x 4 columns]"
      ]
     },
     "execution_count": 18,
     "metadata": {},
     "output_type": "execute_result"
    }
   ],
   "source": [
    "result_turbidity_2015_df"
   ]
  },
  {
   "cell_type": "code",
   "execution_count": 19,
   "metadata": {},
   "outputs": [],
   "source": [
    "mu_turbidity_2014_df = result_turbidity_2014_df.groupby(\"Beach Name\")[\"Turbidity\"].mean()\n",
    "mu_turbidity_2015_df = result_turbidity_2015_df.groupby(\"Beach Name\")[\"Turbidity\"].mean()\n",
    "mu_turbidity_2016_df = result_turbidity_2016_df.groupby(\"Beach Name\")[\"Turbidity\"].mean()\n",
    "mu_turbidity_2017_df = result_turbidity_2017_df.groupby(\"Beach Name\")[\"Turbidity\"].mean()\n",
    "mu_turbidity_2018_df = result_turbidity_2018_df.groupby(\"Beach Name\")[\"Turbidity\"].mean()\n",
    "mu_turbidity_2019_df = result_turbidity_2019_df.groupby(\"Beach Name\")[\"Turbidity\"].mean()"
   ]
  },
  {
   "cell_type": "code",
   "execution_count": 20,
   "metadata": {},
   "outputs": [
    {
     "data": {
      "text/plain": [
       "Beach Name\n",
       "63rd Street Beach     7.628707\n",
       "Calumet Beach         1.529727\n",
       "Montrose Beach        4.332926\n",
       "Ohio Street Beach    27.272717\n",
       "Osterman Beach        4.127782\n",
       "Rainbow Beach         1.097441\n",
       "Name: Turbidity, dtype: float64"
      ]
     },
     "execution_count": 20,
     "metadata": {},
     "output_type": "execute_result"
    }
   ],
   "source": [
    "mu_turbidity_2014_df"
   ]
  },
  {
   "cell_type": "code",
   "execution_count": 21,
   "metadata": {},
   "outputs": [
    {
     "data": {
      "image/png": "[encoded data removed]",
      "text/plain": [
       "<Figure size 432x288 with 1 Axes>"
      ]
     },
     "metadata": {
      "needs_background": "light"
     },
     "output_type": "display_data"
    }
   ],
   "source": [
    "x = mu_turbidity_2014_df.plot.bar()"
   ]
  },
  {
   "cell_type": "code",
   "execution_count": 24,
   "metadata": {},
   "outputs": [
    {
     "data": {
      "text/plain": [
       "Beach Name\n",
       "63rd Street Beach     2.608415\n",
       "Calumet Beach         2.087182\n",
       "Montrose Beach        3.929488\n",
       "Ohio Street Beach     1.977578\n",
       "Osterman Beach       12.451613\n",
       "Rainbow Beach         3.980990\n",
       "Name: Turbidity, dtype: float64"
      ]
     },
     "execution_count": 24,
     "metadata": {},
     "output_type": "execute_result"
    }
   ],
   "source": [
    "mu_turbidity_2015_df"
   ]
  },
  {
   "cell_type": "code",
   "execution_count": 25,
   "metadata": {},
   "outputs": [
    {
     "data": {
      "image/png": "[encoded data removed]",
      "text/plain": [
       "<Figure size 432x288 with 1 Axes>"
      ]
     },
     "metadata": {
      "needs_background": "light"
     },
     "output_type": "display_data"
    }
   ],
   "source": [
    "x = mu_turbidity_2015_df.plot.bar()"
   ]
  },
  {
   "cell_type": "code",
   "execution_count": 26,
   "metadata": {},
   "outputs": [
    {
     "data": {
      "text/plain": [
       "Beach Name\n",
       "Calumet Beach        1.950306\n",
       "Montrose Beach       0.606981\n",
       "Ohio Street Beach    2.859882\n",
       "Name: Turbidity, dtype: float64"
      ]
     },
     "execution_count": 26,
     "metadata": {},
     "output_type": "execute_result"
    }
   ],
   "source": [
    "mu_turbidity_2016_df"
   ]
  },
  {
   "cell_type": "code",
   "execution_count": 27,
   "metadata": {},
   "outputs": [
    {
     "data": {
      "image/png": "[encoded data removed]",
      "text/plain": [
       "<Figure size 432x288 with 1 Axes>"
      ]
     },
     "metadata": {
      "needs_background": "light"
     },
     "output_type": "display_data"
    }
   ],
   "source": [
    "x = mu_turbidity_2016_df.plot.bar()"
   ]
  },
  {
   "cell_type": "code",
   "execution_count": 28,
   "metadata": {},
   "outputs": [
    {
     "data": {
      "text/plain": [
       "Beach Name\n",
       "Ohio Street Beach    2.508552\n",
       "Name: Turbidity, dtype: float64"
      ]
     },
     "execution_count": 28,
     "metadata": {},
     "output_type": "execute_result"
    }
   ],
   "source": [
    "mu_turbidity_2017_df"
   ]
  },
  {
   "cell_type": "code",
   "execution_count": 31,
   "metadata": {},
   "outputs": [
    {
     "data": {
      "image/png": "[encoded data removed]",
      "text/plain": [
       "<Figure size 432x288 with 1 Axes>"
      ]
     },
     "metadata": {
      "needs_background": "light"
     },
     "output_type": "display_data"
    }
   ],
   "source": [
    "x = mu_turbidity_2017_df.plot.bar()"
   ]
  },
  {
   "cell_type": "code",
   "execution_count": 32,
   "metadata": {},
   "outputs": [
    {
     "data": {
      "text/plain": [
       "Beach Name\n",
       "Calumet Beach        3.150000\n",
       "Ohio Street Beach    1.798583\n",
       "Name: Turbidity, dtype: float64"
      ]
     },
     "execution_count": 32,
     "metadata": {},
     "output_type": "execute_result"
    }
   ],
   "source": [
    "mu_turbidity_2018_df"
   ]
  },
  {
   "cell_type": "code",
   "execution_count": 33,
   "metadata": {},
   "outputs": [
    {
     "data": {
      "image/png": "[encoded data removed]",
      "text/plain": [
       "<Figure size 432x288 with 1 Axes>"
      ]
     },
     "metadata": {
      "needs_background": "light"
     },
     "output_type": "display_data"
    }
   ],
   "source": [
    "x = mu_turbidity_2018_df.plot.bar()"
   ]
  },
  {
   "cell_type": "code",
   "execution_count": 34,
   "metadata": {},
   "outputs": [
    {
     "data": {
      "text/plain": [
       "Beach Name\n",
       "Ohio Street Beach    2.42035\n",
       "Name: Turbidity, dtype: float64"
      ]
     },
     "execution_count": 34,
     "metadata": {},
     "output_type": "execute_result"
    }
   ],
   "source": [
    "mu_turbidity_2019_df"
   ]
  },
  {
   "cell_type": "code",
   "execution_count": 35,
   "metadata": {},
   "outputs": [
    {
     "data": {
      "image/png": "[encoded data removed]",
      "text/plain": [
       "<Figure size 432x288 with 1 Axes>"
      ]
     },
     "metadata": {
      "needs_background": "light"
     },
     "output_type": "display_data"
    }
   ],
   "source": [
    "x = mu_turbidity_2019_df.plot.bar()"
   ]
  },
  {
   "cell_type": "code",
   "execution_count": null,
   "metadata": {},
   "outputs": [],
   "source": [
    "temperature = beach_quality_df.groupby(\"Beach Name\")[\"Water Temperature\"].mean()\n",
    "temperature"
   ]
  },
  {
   "cell_type": "code",
   "execution_count": null,
   "metadata": {},
   "outputs": [],
   "source": []
  },
  {
   "cell_type": "code",
   "execution_count": null,
   "metadata": {},
   "outputs": [],
   "source": [
    "xtemps = temperature.plot.bar()"
   ]
  },
  {
   "cell_type": "code",
   "execution_count": null,
   "metadata": {},
   "outputs": [],
   "source": [
    "beach_quality_df.isnull().sum()"
   ]
  },
  {
   "cell_type": "code",
   "execution_count": null,
   "metadata": {},
   "outputs": [],
   "source": [
    "beach_quality_df[beach_quality_df.Turbidity.isnull()]"
   ]
  },
  {
   "cell_type": "code",
   "execution_count": null,
   "metadata": {},
   "outputs": [],
   "source": [
    "temperature = beach_quality_df.groupby(\"Beach Name\")[\"Water Temperature\"].mean()\n",
    "temperature"
   ]
  },
  {
   "cell_type": "code",
   "execution_count": null,
   "metadata": {},
   "outputs": [],
   "source": [
    "waves = beach_quality_df.groupby(\"Beach Name\")[\"Wave Height\"].mean()\n",
    "waves"
   ]
  },
  {
   "cell_type": "code",
   "execution_count": null,
   "metadata": {},
   "outputs": [],
   "source": [
    "xwaves = waves.plot.bar()"
   ]
  },
  {
   "cell_type": "code",
   "execution_count": null,
   "metadata": {},
   "outputs": [],
   "source": [
    "beach_quality_df.dropna(subset= ['Wave Height']).shape"
   ]
  },
  {
   "cell_type": "code",
   "execution_count": null,
   "metadata": {},
   "outputs": [],
   "source": [
    "waves.replace('', np.NaN)"
   ]
  },
  {
   "cell_type": "code",
   "execution_count": null,
   "metadata": {},
   "outputs": [],
   "source": []
  },
  {
   "cell_type": "code",
   "execution_count": null,
   "metadata": {},
   "outputs": [],
   "source": [
    "beach_quality_df.columns = [c.replace(' ', '_') for c in beach_quality_df.columns]"
   ]
  },
  {
   "cell_type": "code",
   "execution_count": null,
   "metadata": {},
   "outputs": [],
   "source": [
    "beach_quality_df.columns"
   ]
  },
  {
   "cell_type": "code",
   "execution_count": null,
   "metadata": {},
   "outputs": [],
   "source": [
    "beach_quality_df[beach_quality_df.Wave_Height<0]"
   ]
  },
  {
   "cell_type": "code",
   "execution_count": null,
   "metadata": {},
   "outputs": [],
   "source": [
    "negatives = beach_quality_df[beach_quality_df['Wave_Height'] < 0]\n",
    "negatives"
   ]
  },
  {
   "cell_type": "code",
   "execution_count": null,
   "metadata": {},
   "outputs": [],
   "source": [
    "newdf=beach_quality_df[beach_quality_df.Wave_Height > 0]\n",
    "newdf"
   ]
  },
  {
   "cell_type": "code",
   "execution_count": null,
   "metadata": {},
   "outputs": [],
   "source": [
    "Wave_Height = newdf.groupby(\"Beach_Name\")[\"Wave_Height\"].mean()\n",
    "Wave_Height"
   ]
  },
  {
   "cell_type": "code",
   "execution_count": null,
   "metadata": {},
   "outputs": [],
   "source": [
    "xwaves = Wave_Height.plot.bar()"
   ]
  },
  {
   "cell_type": "code",
   "execution_count": null,
   "metadata": {},
   "outputs": [],
   "source": []
  },
  {
   "cell_type": "code",
   "execution_count": null,
   "metadata": {},
   "outputs": [],
   "source": []
  },
  {
   "cell_type": "code",
   "execution_count": null,
   "metadata": {},
   "outputs": [],
   "source": [
    "beach_advisory_df = pd.read_csv('Resources/Beach_Swim_Advisories.csv')\n",
    "beach_advisory_df.head()"
   ]
  },
  {
   "cell_type": "code",
   "execution_count": null,
   "metadata": {},
   "outputs": [],
   "source": []
  },
  {
   "cell_type": "code",
   "execution_count": null,
   "metadata": {},
   "outputs": [],
   "source": []
  },
  {
   "cell_type": "code",
   "execution_count": null,
   "metadata": {},
   "outputs": [],
   "source": []
  },
  {
   "cell_type": "code",
   "execution_count": null,
   "metadata": {},
   "outputs": [],
   "source": []
  },
  {
   "cell_type": "code",
   "execution_count": null,
   "metadata": {},
   "outputs": [],
   "source": [
    "beach_advisory_df.shape"
   ]
  },
  {
   "cell_type": "code",
   "execution_count": null,
   "metadata": {},
   "outputs": [],
   "source": []
  },
  {
   "cell_type": "code",
   "execution_count": null,
   "metadata": {},
   "outputs": [],
   "source": [
    "selected_beach_advisory_df = beach_advisory_df[['Beach Name','Predicted Level', 'Swim Advisory']].copy()\n",
    "selected_beach_advisory_df.head()"
   ]
  },
  {
   "cell_type": "code",
   "execution_count": null,
   "metadata": {},
   "outputs": [],
   "source": [
    "selected_beach_advisory_df.groupby(['Beach Name','Swim Advisory']).count()\n",
    "df1 = selected_beach_advisory_df.groupby(['Beach Name','Swim Advisory']).count()"
   ]
  },
  {
   "cell_type": "code",
   "execution_count": null,
   "metadata": {},
   "outputs": [],
   "source": []
  },
  {
   "cell_type": "code",
   "execution_count": null,
   "metadata": {},
   "outputs": [],
   "source": [
    "beach_weather_df = pd.read_csv('Resources/Beach_Weather_Stations.csv')\n",
    "beach_weather_df.head()"
   ]
  },
  {
   "cell_type": "code",
   "execution_count": null,
   "metadata": {},
   "outputs": [],
   "source": [
    "beach_weather_df.shape"
   ]
  },
  {
   "cell_type": "code",
   "execution_count": null,
   "metadata": {},
   "outputs": [],
   "source": [
    "selected_beach_weather_df = beach_weather_df[['Station Name','Rain Intensity', 'Wind Speed']].copy()\n",
    "selected_beach_weather_df.head()"
   ]
  },
  {
   "cell_type": "code",
   "execution_count": null,
   "metadata": {},
   "outputs": [],
   "source": [
    "beach_E_coli_df = pd.read_csv('Resources/Beach_E_Coli_Predictions.csv')\n",
    "beach_E_coli_df.head()"
   ]
  },
  {
   "cell_type": "code",
   "execution_count": null,
   "metadata": {},
   "outputs": [],
   "source": [
    "selected_beach_E_coli_df = beach_E_coli_df[['Beach Name','Date', 'Predicted Level','Latitude','Longitude','Location']].copy()\n",
    "selected_beach_E_coli_df.head()"
   ]
  },
  {
   "cell_type": "code",
   "execution_count": null,
   "metadata": {},
   "outputs": [],
   "source": []
  },
  {
   "cell_type": "code",
   "execution_count": null,
   "metadata": {},
   "outputs": [],
   "source": []
  },
  {
   "cell_type": "code",
   "execution_count": null,
   "metadata": {},
   "outputs": [],
   "source": []
  },
  {
   "cell_type": "code",
   "execution_count": null,
   "metadata": {},
   "outputs": [],
   "source": []
  }
 ],
 "metadata": {
  "kernelspec": {
   "display_name": "Python 3",
   "language": "python",
   "name": "python3"
  },
  "language_info": {
   "codemirror_mode": {
    "name": "ipython",
    "version": 3
   },
   "file_extension": ".py",
   "mimetype": "text/x-python",
   "name": "python",
   "nbconvert_exporter": "python",
   "pygments_lexer": "ipython3",
   "version": "3.7.6"
  }
 },
 "nbformat": 4,
 "nbformat_minor": 4
}
