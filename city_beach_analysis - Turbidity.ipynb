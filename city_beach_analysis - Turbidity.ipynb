{
 "cells": [
  {
   "cell_type": "code",
   "execution_count": 1,
   "metadata": {},
   "outputs": [],
   "source": [
    "import pandas as pd\n",
    "import matplotlib.pyplot as plt\n",
    "import numpy as np\n"
   ]
  },
  {
   "cell_type": "code",
   "execution_count": 2,
   "metadata": {},
   "outputs": [
    {
     "data": {
      "text/html": [
       "<div>\n",
       "<style scoped>\n",
       "    .dataframe tbody tr th:only-of-type {\n",
       "        vertical-align: middle;\n",
       "    }\n",
       "\n",
       "    .dataframe tbody tr th {\n",
       "        vertical-align: top;\n",
       "    }\n",
       "\n",
       "    .dataframe thead th {\n",
       "        text-align: right;\n",
       "    }\n",
       "</style>\n",
       "<table border=\"1\" class=\"dataframe\">\n",
       "  <thead>\n",
       "    <tr style=\"text-align: right;\">\n",
       "      <th></th>\n",
       "      <th>Beach Name</th>\n",
       "      <th>Measurement Timestamp</th>\n",
       "      <th>Water Temperature</th>\n",
       "      <th>Turbidity</th>\n",
       "      <th>Transducer Depth</th>\n",
       "      <th>Wave Height</th>\n",
       "      <th>Wave Period</th>\n",
       "      <th>Battery Life</th>\n",
       "      <th>Measurement Timestamp Label</th>\n",
       "      <th>Measurement ID</th>\n",
       "    </tr>\n",
       "  </thead>\n",
       "  <tbody>\n",
       "    <tr>\n",
       "      <th>0</th>\n",
       "      <td>Ohio Street Beach</td>\n",
       "      <td>6/2/19 17:00</td>\n",
       "      <td>17.1</td>\n",
       "      <td>0.78</td>\n",
       "      <td>NaN</td>\n",
       "      <td>0.232</td>\n",
       "      <td>4.0</td>\n",
       "      <td>10.9</td>\n",
       "      <td>6/2/19 17:00</td>\n",
       "      <td>OhioStreetBeach201906021700</td>\n",
       "    </tr>\n",
       "    <tr>\n",
       "      <th>1</th>\n",
       "      <td>63rd Street Beach</td>\n",
       "      <td>9/18/13 10:00</td>\n",
       "      <td>18.9</td>\n",
       "      <td>7.56</td>\n",
       "      <td>1.517</td>\n",
       "      <td>0.140</td>\n",
       "      <td>4.0</td>\n",
       "      <td>11.0</td>\n",
       "      <td>9/18/13 10:00</td>\n",
       "      <td>63rdStreetBeach201309181000</td>\n",
       "    </tr>\n",
       "    <tr>\n",
       "      <th>2</th>\n",
       "      <td>63rd Street Beach</td>\n",
       "      <td>6/12/14 12:00</td>\n",
       "      <td>25.4</td>\n",
       "      <td>3.45</td>\n",
       "      <td>-0.072</td>\n",
       "      <td>0.031</td>\n",
       "      <td>9.0</td>\n",
       "      <td>12.2</td>\n",
       "      <td>6/12/14 12:00</td>\n",
       "      <td>63rdStreetBeach201406121200</td>\n",
       "    </tr>\n",
       "    <tr>\n",
       "      <th>3</th>\n",
       "      <td>63rd Street Beach</td>\n",
       "      <td>6/12/14 13:00</td>\n",
       "      <td>18.1</td>\n",
       "      <td>3.31</td>\n",
       "      <td>1.818</td>\n",
       "      <td>0.339</td>\n",
       "      <td>10.0</td>\n",
       "      <td>12.2</td>\n",
       "      <td>6/12/14 13:00</td>\n",
       "      <td>63rdStreetBeach201406121300</td>\n",
       "    </tr>\n",
       "    <tr>\n",
       "      <th>4</th>\n",
       "      <td>63rd Street Beach</td>\n",
       "      <td>6/12/14 14:00</td>\n",
       "      <td>17.5</td>\n",
       "      <td>2.93</td>\n",
       "      <td>1.545</td>\n",
       "      <td>0.136</td>\n",
       "      <td>4.0</td>\n",
       "      <td>12.2</td>\n",
       "      <td>6/12/14 14:00</td>\n",
       "      <td>63rdStreetBeach201406121400</td>\n",
       "    </tr>\n",
       "  </tbody>\n",
       "</table>\n",
       "</div>"
      ],
      "text/plain": [
       "          Beach Name Measurement Timestamp  Water Temperature  Turbidity  \\\n",
       "0  Ohio Street Beach          6/2/19 17:00               17.1       0.78   \n",
       "1  63rd Street Beach         9/18/13 10:00               18.9       7.56   \n",
       "2  63rd Street Beach         6/12/14 12:00               25.4       3.45   \n",
       "3  63rd Street Beach         6/12/14 13:00               18.1       3.31   \n",
       "4  63rd Street Beach         6/12/14 14:00               17.5       2.93   \n",
       "\n",
       "   Transducer Depth  Wave Height  Wave Period  Battery Life  \\\n",
       "0               NaN        0.232          4.0          10.9   \n",
       "1             1.517        0.140          4.0          11.0   \n",
       "2            -0.072        0.031          9.0          12.2   \n",
       "3             1.818        0.339         10.0          12.2   \n",
       "4             1.545        0.136          4.0          12.2   \n",
       "\n",
       "  Measurement Timestamp Label               Measurement ID  \n",
       "0                6/2/19 17:00  OhioStreetBeach201906021700  \n",
       "1               9/18/13 10:00  63rdStreetBeach201309181000  \n",
       "2               6/12/14 12:00  63rdStreetBeach201406121200  \n",
       "3               6/12/14 13:00  63rdStreetBeach201406121300  \n",
       "4               6/12/14 14:00  63rdStreetBeach201406121400  "
      ]
     },
     "execution_count": 2,
     "metadata": {},
     "output_type": "execute_result"
    }
   ],
   "source": [
    "\n",
    "beach_quality_df = pd.read_csv('Resources/Beach_Water_Quality.csv')\n",
    "beach_quality_df.head()"
   ]
  },
  {
   "cell_type": "code",
   "execution_count": 3,
   "metadata": {},
   "outputs": [
    {
     "data": {
      "text/plain": [
       "0    0.78\n",
       "1    7.56\n",
       "2    3.45\n",
       "3    3.31\n",
       "4    2.93\n",
       "Name: Turbidity, dtype: float64"
      ]
     },
     "execution_count": 3,
     "metadata": {},
     "output_type": "execute_result"
    }
   ],
   "source": [
    "beach_quality_df['Turbidity'].head()"
   ]
  },
  {
   "cell_type": "code",
   "execution_count": 4,
   "metadata": {},
   "outputs": [
    {
     "data": {
      "text/plain": [
       "39469"
      ]
     },
     "execution_count": 4,
     "metadata": {},
     "output_type": "execute_result"
    }
   ],
   "source": [
    "beach_quality_df['Beach Name'].count()"
   ]
  },
  {
   "cell_type": "code",
   "execution_count": 5,
   "metadata": {},
   "outputs": [
    {
     "data": {
      "text/plain": [
       "Beach Name\n",
       "63rd Street Beach    4.313150\n",
       "Calumet Beach        1.886594\n",
       "Montrose Beach       2.898791\n",
       "Ohio Street Beach    5.951276\n",
       "Osterman Beach       8.707598\n",
       "Rainbow Beach        3.164116\n",
       "Name: Turbidity, dtype: float64"
      ]
     },
     "execution_count": 5,
     "metadata": {},
     "output_type": "execute_result"
    }
   ],
   "source": [
    "turbidity_means = beach_quality_df.groupby(\"Beach Name\")[\"Turbidity\"].mean()\n",
    "turbidity_means"
   ]
  },
  {
   "cell_type": "code",
   "execution_count": 6,
   "metadata": {},
   "outputs": [
    {
     "data": {
      "text/plain": [
       "(39469, 10)"
      ]
     },
     "execution_count": 6,
     "metadata": {},
     "output_type": "execute_result"
    }
   ],
   "source": [
    "beach_quality_df.shape"
   ]
  },
  {
   "cell_type": "code",
   "execution_count": 7,
   "metadata": {},
   "outputs": [
    {
     "data": {
      "image/png": "[encoded data removed]",
      "text/plain": [
       "<Figure size 432x288 with 1 Axes>"
      ]
     },
     "metadata": {
      "needs_background": "light"
     },
     "output_type": "display_data"
    }
   ],
   "source": [
    "x = turbidity_means.plot.bar()"
   ]
  },
  {
   "cell_type": "code",
   "execution_count": 8,
   "metadata": {},
   "outputs": [
    {
     "data": {
      "text/html": [
       "<div>\n",
       "<style scoped>\n",
       "    .dataframe tbody tr th:only-of-type {\n",
       "        vertical-align: middle;\n",
       "    }\n",
       "\n",
       "    .dataframe tbody tr th {\n",
       "        vertical-align: top;\n",
       "    }\n",
       "\n",
       "    .dataframe thead th {\n",
       "        text-align: right;\n",
       "    }\n",
       "</style>\n",
       "<table border=\"1\" class=\"dataframe\">\n",
       "  <thead>\n",
       "    <tr style=\"text-align: right;\">\n",
       "      <th></th>\n",
       "      <th>Beach Name</th>\n",
       "      <th>Measurement Timestamp</th>\n",
       "      <th>Water Temperature</th>\n",
       "      <th>Turbidity</th>\n",
       "      <th>Wave Height</th>\n",
       "      <th>Wave Period</th>\n",
       "    </tr>\n",
       "  </thead>\n",
       "  <tbody>\n",
       "    <tr>\n",
       "      <th>0</th>\n",
       "      <td>Ohio Street Beach</td>\n",
       "      <td>6/2/19 17:00</td>\n",
       "      <td>17.1</td>\n",
       "      <td>0.78</td>\n",
       "      <td>0.232</td>\n",
       "      <td>4.0</td>\n",
       "    </tr>\n",
       "    <tr>\n",
       "      <th>1</th>\n",
       "      <td>63rd Street Beach</td>\n",
       "      <td>9/18/13 10:00</td>\n",
       "      <td>18.9</td>\n",
       "      <td>7.56</td>\n",
       "      <td>0.140</td>\n",
       "      <td>4.0</td>\n",
       "    </tr>\n",
       "    <tr>\n",
       "      <th>2</th>\n",
       "      <td>63rd Street Beach</td>\n",
       "      <td>6/12/14 12:00</td>\n",
       "      <td>25.4</td>\n",
       "      <td>3.45</td>\n",
       "      <td>0.031</td>\n",
       "      <td>9.0</td>\n",
       "    </tr>\n",
       "    <tr>\n",
       "      <th>3</th>\n",
       "      <td>63rd Street Beach</td>\n",
       "      <td>6/12/14 13:00</td>\n",
       "      <td>18.1</td>\n",
       "      <td>3.31</td>\n",
       "      <td>0.339</td>\n",
       "      <td>10.0</td>\n",
       "    </tr>\n",
       "    <tr>\n",
       "      <th>4</th>\n",
       "      <td>63rd Street Beach</td>\n",
       "      <td>6/12/14 14:00</td>\n",
       "      <td>17.5</td>\n",
       "      <td>2.93</td>\n",
       "      <td>0.136</td>\n",
       "      <td>4.0</td>\n",
       "    </tr>\n",
       "  </tbody>\n",
       "</table>\n",
       "</div>"
      ],
      "text/plain": [
       "          Beach Name Measurement Timestamp  Water Temperature  Turbidity  \\\n",
       "0  Ohio Street Beach          6/2/19 17:00               17.1       0.78   \n",
       "1  63rd Street Beach         9/18/13 10:00               18.9       7.56   \n",
       "2  63rd Street Beach         6/12/14 12:00               25.4       3.45   \n",
       "3  63rd Street Beach         6/12/14 13:00               18.1       3.31   \n",
       "4  63rd Street Beach         6/12/14 14:00               17.5       2.93   \n",
       "\n",
       "   Wave Height  Wave Period  \n",
       "0        0.232          4.0  \n",
       "1        0.140          4.0  \n",
       "2        0.031          9.0  \n",
       "3        0.339         10.0  \n",
       "4        0.136          4.0  "
      ]
     },
     "execution_count": 8,
     "metadata": {},
     "output_type": "execute_result"
    }
   ],
   "source": [
    "selected_beach_quality_df = beach_quality_df[['Beach Name','Measurement Timestamp','Water Temperature','Turbidity','Wave Height', 'Wave Period']].copy()\n",
    "selected_beach_quality_df.head()"
   ]
  },
  {
   "cell_type": "code",
   "execution_count": 9,
   "metadata": {},
   "outputs": [],
   "source": [
    "result_turbidity_df = selected_beach_quality_df[['Beach Name', 'Measurement Timestamp', \"Turbidity\"]].copy().sort_values(\"Beach Name\")"
   ]
  },
  {
   "cell_type": "code",
   "execution_count": 10,
   "metadata": {},
   "outputs": [
    {
     "data": {
      "text/html": [
       "<div>\n",
       "<style scoped>\n",
       "    .dataframe tbody tr th:only-of-type {\n",
       "        vertical-align: middle;\n",
       "    }\n",
       "\n",
       "    .dataframe tbody tr th {\n",
       "        vertical-align: top;\n",
       "    }\n",
       "\n",
       "    .dataframe thead th {\n",
       "        text-align: right;\n",
       "    }\n",
       "</style>\n",
       "<table border=\"1\" class=\"dataframe\">\n",
       "  <thead>\n",
       "    <tr style=\"text-align: right;\">\n",
       "      <th></th>\n",
       "      <th>Beach Name</th>\n",
       "      <th>Measurement Timestamp</th>\n",
       "      <th>Turbidity</th>\n",
       "    </tr>\n",
       "  </thead>\n",
       "  <tbody>\n",
       "    <tr>\n",
       "      <th>2655</th>\n",
       "      <td>63rd Street Beach</td>\n",
       "      <td>8/5/15 14:00</td>\n",
       "      <td>0.52</td>\n",
       "    </tr>\n",
       "    <tr>\n",
       "      <th>2275</th>\n",
       "      <td>63rd Street Beach</td>\n",
       "      <td>7/17/15 2:00</td>\n",
       "      <td>3.07</td>\n",
       "    </tr>\n",
       "    <tr>\n",
       "      <th>2276</th>\n",
       "      <td>63rd Street Beach</td>\n",
       "      <td>7/17/15 4:00</td>\n",
       "      <td>3.61</td>\n",
       "    </tr>\n",
       "    <tr>\n",
       "      <th>2277</th>\n",
       "      <td>63rd Street Beach</td>\n",
       "      <td>7/17/15 5:00</td>\n",
       "      <td>3.76</td>\n",
       "    </tr>\n",
       "    <tr>\n",
       "      <th>2278</th>\n",
       "      <td>63rd Street Beach</td>\n",
       "      <td>7/17/15 6:00</td>\n",
       "      <td>3.95</td>\n",
       "    </tr>\n",
       "    <tr>\n",
       "      <th>...</th>\n",
       "      <td>...</td>\n",
       "      <td>...</td>\n",
       "      <td>...</td>\n",
       "    </tr>\n",
       "    <tr>\n",
       "      <th>33815</th>\n",
       "      <td>Rainbow Beach</td>\n",
       "      <td>8/8/15 10:00</td>\n",
       "      <td>0.57</td>\n",
       "    </tr>\n",
       "    <tr>\n",
       "      <th>33814</th>\n",
       "      <td>Rainbow Beach</td>\n",
       "      <td>8/8/15 9:00</td>\n",
       "      <td>0.60</td>\n",
       "    </tr>\n",
       "    <tr>\n",
       "      <th>33813</th>\n",
       "      <td>Rainbow Beach</td>\n",
       "      <td>8/8/15 8:00</td>\n",
       "      <td>0.60</td>\n",
       "    </tr>\n",
       "    <tr>\n",
       "      <th>33823</th>\n",
       "      <td>Rainbow Beach</td>\n",
       "      <td>8/8/15 18:00</td>\n",
       "      <td>3.68</td>\n",
       "    </tr>\n",
       "    <tr>\n",
       "      <th>39468</th>\n",
       "      <td>Rainbow Beach</td>\n",
       "      <td>10/1/15 7:00</td>\n",
       "      <td>0.00</td>\n",
       "    </tr>\n",
       "  </tbody>\n",
       "</table>\n",
       "<p>39469 rows × 3 columns</p>\n",
       "</div>"
      ],
      "text/plain": [
       "              Beach Name Measurement Timestamp  Turbidity\n",
       "2655   63rd Street Beach          8/5/15 14:00       0.52\n",
       "2275   63rd Street Beach          7/17/15 2:00       3.07\n",
       "2276   63rd Street Beach          7/17/15 4:00       3.61\n",
       "2277   63rd Street Beach          7/17/15 5:00       3.76\n",
       "2278   63rd Street Beach          7/17/15 6:00       3.95\n",
       "...                  ...                   ...        ...\n",
       "33815      Rainbow Beach          8/8/15 10:00       0.57\n",
       "33814      Rainbow Beach           8/8/15 9:00       0.60\n",
       "33813      Rainbow Beach           8/8/15 8:00       0.60\n",
       "33823      Rainbow Beach          8/8/15 18:00       3.68\n",
       "39468      Rainbow Beach          10/1/15 7:00       0.00\n",
       "\n",
       "[39469 rows x 3 columns]"
      ]
     },
     "execution_count": 10,
     "metadata": {},
     "output_type": "execute_result"
    }
   ],
   "source": [
    "result_turbidity_df"
   ]
  },
  {
   "cell_type": "code",
   "execution_count": 11,
   "metadata": {},
   "outputs": [
    {
     "name": "stdout",
     "output_type": "stream",
     "text": [
      "<class 'pandas.core.frame.DataFrame'>\n",
      "Int64Index: 39469 entries, 2655 to 39468\n",
      "Data columns (total 4 columns):\n",
      " #   Column                 Non-Null Count  Dtype         \n",
      "---  ------                 --------------  -----         \n",
      " 0   Beach Name             39469 non-null  object        \n",
      " 1   Measurement Timestamp  39469 non-null  object        \n",
      " 2   Turbidity              39469 non-null  float64       \n",
      " 3   Date                   39469 non-null  datetime64[ns]\n",
      "dtypes: datetime64[ns](1), float64(1), object(2)\n",
      "memory usage: 1.5+ MB\n"
     ]
    },
    {
     "data": {
      "text/html": [
       "<div>\n",
       "<style scoped>\n",
       "    .dataframe tbody tr th:only-of-type {\n",
       "        vertical-align: middle;\n",
       "    }\n",
       "\n",
       "    .dataframe tbody tr th {\n",
       "        vertical-align: top;\n",
       "    }\n",
       "\n",
       "    .dataframe thead th {\n",
       "        text-align: right;\n",
       "    }\n",
       "</style>\n",
       "<table border=\"1\" class=\"dataframe\">\n",
       "  <thead>\n",
       "    <tr style=\"text-align: right;\">\n",
       "      <th></th>\n",
       "      <th>Beach Name</th>\n",
       "      <th>Measurement Timestamp</th>\n",
       "      <th>Turbidity</th>\n",
       "      <th>Date</th>\n",
       "    </tr>\n",
       "  </thead>\n",
       "  <tbody>\n",
       "    <tr>\n",
       "      <th>2655</th>\n",
       "      <td>63rd Street Beach</td>\n",
       "      <td>8/5/15 14:00</td>\n",
       "      <td>0.52</td>\n",
       "      <td>2015-08-05</td>\n",
       "    </tr>\n",
       "    <tr>\n",
       "      <th>2275</th>\n",
       "      <td>63rd Street Beach</td>\n",
       "      <td>7/17/15 2:00</td>\n",
       "      <td>3.07</td>\n",
       "      <td>2015-07-17</td>\n",
       "    </tr>\n",
       "    <tr>\n",
       "      <th>2276</th>\n",
       "      <td>63rd Street Beach</td>\n",
       "      <td>7/17/15 4:00</td>\n",
       "      <td>3.61</td>\n",
       "      <td>2015-07-17</td>\n",
       "    </tr>\n",
       "    <tr>\n",
       "      <th>2277</th>\n",
       "      <td>63rd Street Beach</td>\n",
       "      <td>7/17/15 5:00</td>\n",
       "      <td>3.76</td>\n",
       "      <td>2015-07-17</td>\n",
       "    </tr>\n",
       "    <tr>\n",
       "      <th>2278</th>\n",
       "      <td>63rd Street Beach</td>\n",
       "      <td>7/17/15 6:00</td>\n",
       "      <td>3.95</td>\n",
       "      <td>2015-07-17</td>\n",
       "    </tr>\n",
       "    <tr>\n",
       "      <th>...</th>\n",
       "      <td>...</td>\n",
       "      <td>...</td>\n",
       "      <td>...</td>\n",
       "      <td>...</td>\n",
       "    </tr>\n",
       "    <tr>\n",
       "      <th>33815</th>\n",
       "      <td>Rainbow Beach</td>\n",
       "      <td>8/8/15 10:00</td>\n",
       "      <td>0.57</td>\n",
       "      <td>2015-08-08</td>\n",
       "    </tr>\n",
       "    <tr>\n",
       "      <th>33814</th>\n",
       "      <td>Rainbow Beach</td>\n",
       "      <td>8/8/15 9:00</td>\n",
       "      <td>0.60</td>\n",
       "      <td>2015-08-08</td>\n",
       "    </tr>\n",
       "    <tr>\n",
       "      <th>33813</th>\n",
       "      <td>Rainbow Beach</td>\n",
       "      <td>8/8/15 8:00</td>\n",
       "      <td>0.60</td>\n",
       "      <td>2015-08-08</td>\n",
       "    </tr>\n",
       "    <tr>\n",
       "      <th>33823</th>\n",
       "      <td>Rainbow Beach</td>\n",
       "      <td>8/8/15 18:00</td>\n",
       "      <td>3.68</td>\n",
       "      <td>2015-08-08</td>\n",
       "    </tr>\n",
       "    <tr>\n",
       "      <th>39468</th>\n",
       "      <td>Rainbow Beach</td>\n",
       "      <td>10/1/15 7:00</td>\n",
       "      <td>0.00</td>\n",
       "      <td>2015-10-01</td>\n",
       "    </tr>\n",
       "  </tbody>\n",
       "</table>\n",
       "<p>39469 rows × 4 columns</p>\n",
       "</div>"
      ],
      "text/plain": [
       "              Beach Name Measurement Timestamp  Turbidity       Date\n",
       "2655   63rd Street Beach          8/5/15 14:00       0.52 2015-08-05\n",
       "2275   63rd Street Beach          7/17/15 2:00       3.07 2015-07-17\n",
       "2276   63rd Street Beach          7/17/15 4:00       3.61 2015-07-17\n",
       "2277   63rd Street Beach          7/17/15 5:00       3.76 2015-07-17\n",
       "2278   63rd Street Beach          7/17/15 6:00       3.95 2015-07-17\n",
       "...                  ...                   ...        ...        ...\n",
       "33815      Rainbow Beach          8/8/15 10:00       0.57 2015-08-08\n",
       "33814      Rainbow Beach           8/8/15 9:00       0.60 2015-08-08\n",
       "33813      Rainbow Beach           8/8/15 8:00       0.60 2015-08-08\n",
       "33823      Rainbow Beach          8/8/15 18:00       3.68 2015-08-08\n",
       "39468      Rainbow Beach          10/1/15 7:00       0.00 2015-10-01\n",
       "\n",
       "[39469 rows x 4 columns]"
      ]
     },
     "execution_count": 11,
     "metadata": {},
     "output_type": "execute_result"
    }
   ],
   "source": [
    "result_turbidity_df[\"Date\"] = pd.to_datetime(result_turbidity_df[\"Measurement Timestamp\"]).dt.date\n",
    "result_turbidity_df['Date']= pd.to_datetime(result_turbidity_df['Date']) \n",
    "\n",
    "result_turbidity_df.info()\n",
    "result_turbidity_df"
   ]
  },
  {
   "cell_type": "code",
   "execution_count": 12,
   "metadata": {},
   "outputs": [],
   "source": [
    "result_turbidity_2014_df = result_turbidity_df[(result_turbidity_df['Date'] > '12/31/2013') & (result_turbidity_df['Date'] < '01/01/2015')]\n",
    "result_turbidity_2015_df = result_turbidity_df[(result_turbidity_df['Date'] > '12/31/2014') & (result_turbidity_df['Date'] < '01/01/2016')]\n",
    "result_turbidity_2016_df = result_turbidity_df[(result_turbidity_df['Date'] > '12/31/2015') & (result_turbidity_df['Date'] < '01/01/2017')]\n",
    "result_turbidity_2017_df = result_turbidity_df[(result_turbidity_df['Date'] > '12/31/2016') & (result_turbidity_df['Date'] < '01/01/2018')]\n",
    "result_turbidity_2018_df = result_turbidity_df[(result_turbidity_df['Date'] > '12/31/2017') & (result_turbidity_df['Date'] < '01/01/2019')]\n",
    "result_turbidity_2019_df = result_turbidity_df[(result_turbidity_df['Date'] > '12/31/2018') & (result_turbidity_df['Date'] < '01/01/2020')]"
   ]
  },
  {
   "cell_type": "code",
   "execution_count": 13,
   "metadata": {},
   "outputs": [
    {
     "data": {
      "text/html": [
       "<div>\n",
       "<style scoped>\n",
       "    .dataframe tbody tr th:only-of-type {\n",
       "        vertical-align: middle;\n",
       "    }\n",
       "\n",
       "    .dataframe tbody tr th {\n",
       "        vertical-align: top;\n",
       "    }\n",
       "\n",
       "    .dataframe thead th {\n",
       "        text-align: right;\n",
       "    }\n",
       "</style>\n",
       "<table border=\"1\" class=\"dataframe\">\n",
       "  <thead>\n",
       "    <tr style=\"text-align: right;\">\n",
       "      <th></th>\n",
       "      <th>Beach Name</th>\n",
       "      <th>Measurement Timestamp</th>\n",
       "      <th>Turbidity</th>\n",
       "      <th>Date</th>\n",
       "    </tr>\n",
       "  </thead>\n",
       "  <tbody>\n",
       "    <tr>\n",
       "      <th>563</th>\n",
       "      <td>63rd Street Beach</td>\n",
       "      <td>7/6/14 10:00</td>\n",
       "      <td>0.47</td>\n",
       "      <td>2014-07-06</td>\n",
       "    </tr>\n",
       "    <tr>\n",
       "      <th>564</th>\n",
       "      <td>63rd Street Beach</td>\n",
       "      <td>7/6/14 11:00</td>\n",
       "      <td>0.45</td>\n",
       "      <td>2014-07-06</td>\n",
       "    </tr>\n",
       "    <tr>\n",
       "      <th>565</th>\n",
       "      <td>63rd Street Beach</td>\n",
       "      <td>7/6/14 12:00</td>\n",
       "      <td>0.66</td>\n",
       "      <td>2014-07-06</td>\n",
       "    </tr>\n",
       "    <tr>\n",
       "      <th>566</th>\n",
       "      <td>63rd Street Beach</td>\n",
       "      <td>7/6/14 13:00</td>\n",
       "      <td>0.87</td>\n",
       "      <td>2014-07-06</td>\n",
       "    </tr>\n",
       "    <tr>\n",
       "      <th>567</th>\n",
       "      <td>63rd Street Beach</td>\n",
       "      <td>7/6/14 14:00</td>\n",
       "      <td>0.62</td>\n",
       "      <td>2014-07-06</td>\n",
       "    </tr>\n",
       "    <tr>\n",
       "      <th>...</th>\n",
       "      <td>...</td>\n",
       "      <td>...</td>\n",
       "      <td>...</td>\n",
       "      <td>...</td>\n",
       "    </tr>\n",
       "    <tr>\n",
       "      <th>32167</th>\n",
       "      <td>Rainbow Beach</td>\n",
       "      <td>7/7/14 8:00</td>\n",
       "      <td>0.88</td>\n",
       "      <td>2014-07-07</td>\n",
       "    </tr>\n",
       "    <tr>\n",
       "      <th>32166</th>\n",
       "      <td>Rainbow Beach</td>\n",
       "      <td>7/7/14 7:00</td>\n",
       "      <td>0.90</td>\n",
       "      <td>2014-07-07</td>\n",
       "    </tr>\n",
       "    <tr>\n",
       "      <th>32165</th>\n",
       "      <td>Rainbow Beach</td>\n",
       "      <td>7/7/14 6:00</td>\n",
       "      <td>0.94</td>\n",
       "      <td>2014-07-07</td>\n",
       "    </tr>\n",
       "    <tr>\n",
       "      <th>32164</th>\n",
       "      <td>Rainbow Beach</td>\n",
       "      <td>7/7/14 5:00</td>\n",
       "      <td>0.72</td>\n",
       "      <td>2014-07-07</td>\n",
       "    </tr>\n",
       "    <tr>\n",
       "      <th>32174</th>\n",
       "      <td>Rainbow Beach</td>\n",
       "      <td>7/7/14 16:00</td>\n",
       "      <td>0.71</td>\n",
       "      <td>2014-07-07</td>\n",
       "    </tr>\n",
       "  </tbody>\n",
       "</table>\n",
       "<p>10256 rows × 4 columns</p>\n",
       "</div>"
      ],
      "text/plain": [
       "              Beach Name Measurement Timestamp  Turbidity       Date\n",
       "563    63rd Street Beach          7/6/14 10:00       0.47 2014-07-06\n",
       "564    63rd Street Beach          7/6/14 11:00       0.45 2014-07-06\n",
       "565    63rd Street Beach          7/6/14 12:00       0.66 2014-07-06\n",
       "566    63rd Street Beach          7/6/14 13:00       0.87 2014-07-06\n",
       "567    63rd Street Beach          7/6/14 14:00       0.62 2014-07-06\n",
       "...                  ...                   ...        ...        ...\n",
       "32167      Rainbow Beach           7/7/14 8:00       0.88 2014-07-07\n",
       "32166      Rainbow Beach           7/7/14 7:00       0.90 2014-07-07\n",
       "32165      Rainbow Beach           7/7/14 6:00       0.94 2014-07-07\n",
       "32164      Rainbow Beach           7/7/14 5:00       0.72 2014-07-07\n",
       "32174      Rainbow Beach          7/7/14 16:00       0.71 2014-07-07\n",
       "\n",
       "[10256 rows x 4 columns]"
      ]
     },
     "execution_count": 13,
     "metadata": {},
     "output_type": "execute_result"
    }
   ],
   "source": [
    "result_turbidity_2014_df"
   ]
  },
  {
   "cell_type": "code",
   "execution_count": 14,
   "metadata": {},
   "outputs": [
    {
     "data": {
      "text/html": [
       "<div>\n",
       "<style scoped>\n",
       "    .dataframe tbody tr th:only-of-type {\n",
       "        vertical-align: middle;\n",
       "    }\n",
       "\n",
       "    .dataframe tbody tr th {\n",
       "        vertical-align: top;\n",
       "    }\n",
       "\n",
       "    .dataframe thead th {\n",
       "        text-align: right;\n",
       "    }\n",
       "</style>\n",
       "<table border=\"1\" class=\"dataframe\">\n",
       "  <thead>\n",
       "    <tr style=\"text-align: right;\">\n",
       "      <th></th>\n",
       "      <th>Beach Name</th>\n",
       "      <th>Measurement Timestamp</th>\n",
       "      <th>Turbidity</th>\n",
       "      <th>Date</th>\n",
       "    </tr>\n",
       "  </thead>\n",
       "  <tbody>\n",
       "    <tr>\n",
       "      <th>2655</th>\n",
       "      <td>63rd Street Beach</td>\n",
       "      <td>8/5/15 14:00</td>\n",
       "      <td>0.52</td>\n",
       "      <td>2015-08-05</td>\n",
       "    </tr>\n",
       "    <tr>\n",
       "      <th>2275</th>\n",
       "      <td>63rd Street Beach</td>\n",
       "      <td>7/17/15 2:00</td>\n",
       "      <td>3.07</td>\n",
       "      <td>2015-07-17</td>\n",
       "    </tr>\n",
       "    <tr>\n",
       "      <th>2276</th>\n",
       "      <td>63rd Street Beach</td>\n",
       "      <td>7/17/15 4:00</td>\n",
       "      <td>3.61</td>\n",
       "      <td>2015-07-17</td>\n",
       "    </tr>\n",
       "    <tr>\n",
       "      <th>2277</th>\n",
       "      <td>63rd Street Beach</td>\n",
       "      <td>7/17/15 5:00</td>\n",
       "      <td>3.76</td>\n",
       "      <td>2015-07-17</td>\n",
       "    </tr>\n",
       "    <tr>\n",
       "      <th>2278</th>\n",
       "      <td>63rd Street Beach</td>\n",
       "      <td>7/17/15 6:00</td>\n",
       "      <td>3.95</td>\n",
       "      <td>2015-07-17</td>\n",
       "    </tr>\n",
       "    <tr>\n",
       "      <th>...</th>\n",
       "      <td>...</td>\n",
       "      <td>...</td>\n",
       "      <td>...</td>\n",
       "      <td>...</td>\n",
       "    </tr>\n",
       "    <tr>\n",
       "      <th>33815</th>\n",
       "      <td>Rainbow Beach</td>\n",
       "      <td>8/8/15 10:00</td>\n",
       "      <td>0.57</td>\n",
       "      <td>2015-08-08</td>\n",
       "    </tr>\n",
       "    <tr>\n",
       "      <th>33814</th>\n",
       "      <td>Rainbow Beach</td>\n",
       "      <td>8/8/15 9:00</td>\n",
       "      <td>0.60</td>\n",
       "      <td>2015-08-08</td>\n",
       "    </tr>\n",
       "    <tr>\n",
       "      <th>33813</th>\n",
       "      <td>Rainbow Beach</td>\n",
       "      <td>8/8/15 8:00</td>\n",
       "      <td>0.60</td>\n",
       "      <td>2015-08-08</td>\n",
       "    </tr>\n",
       "    <tr>\n",
       "      <th>33823</th>\n",
       "      <td>Rainbow Beach</td>\n",
       "      <td>8/8/15 18:00</td>\n",
       "      <td>3.68</td>\n",
       "      <td>2015-08-08</td>\n",
       "    </tr>\n",
       "    <tr>\n",
       "      <th>39468</th>\n",
       "      <td>Rainbow Beach</td>\n",
       "      <td>10/1/15 7:00</td>\n",
       "      <td>0.00</td>\n",
       "      <td>2015-10-01</td>\n",
       "    </tr>\n",
       "  </tbody>\n",
       "</table>\n",
       "<p>14341 rows × 4 columns</p>\n",
       "</div>"
      ],
      "text/plain": [
       "              Beach Name Measurement Timestamp  Turbidity       Date\n",
       "2655   63rd Street Beach          8/5/15 14:00       0.52 2015-08-05\n",
       "2275   63rd Street Beach          7/17/15 2:00       3.07 2015-07-17\n",
       "2276   63rd Street Beach          7/17/15 4:00       3.61 2015-07-17\n",
       "2277   63rd Street Beach          7/17/15 5:00       3.76 2015-07-17\n",
       "2278   63rd Street Beach          7/17/15 6:00       3.95 2015-07-17\n",
       "...                  ...                   ...        ...        ...\n",
       "33815      Rainbow Beach          8/8/15 10:00       0.57 2015-08-08\n",
       "33814      Rainbow Beach           8/8/15 9:00       0.60 2015-08-08\n",
       "33813      Rainbow Beach           8/8/15 8:00       0.60 2015-08-08\n",
       "33823      Rainbow Beach          8/8/15 18:00       3.68 2015-08-08\n",
       "39468      Rainbow Beach          10/1/15 7:00       0.00 2015-10-01\n",
       "\n",
       "[14341 rows x 4 columns]"
      ]
     },
     "execution_count": 14,
     "metadata": {},
     "output_type": "execute_result"
    }
   ],
   "source": [
    "result_turbidity_2015_df"
   ]
  },
  {
   "cell_type": "code",
   "execution_count": 15,
   "metadata": {},
   "outputs": [],
   "source": [
    "mu_turbidity_2014_df = result_turbidity_2014_df.groupby(\"Beach Name\")[\"Turbidity\"].mean()\n",
    "mu_turbidity_2015_df = result_turbidity_2015_df.groupby(\"Beach Name\")[\"Turbidity\"].mean()\n",
    "mu_turbidity_2016_df = result_turbidity_2016_df.groupby(\"Beach Name\")[\"Turbidity\"].mean()\n",
    "mu_turbidity_2017_df = result_turbidity_2017_df.groupby(\"Beach Name\")[\"Turbidity\"].mean()\n",
    "mu_turbidity_2018_df = result_turbidity_2018_df.groupby(\"Beach Name\")[\"Turbidity\"].mean()\n",
    "mu_turbidity_2019_df = result_turbidity_2019_df.groupby(\"Beach Name\")[\"Turbidity\"].mean()"
   ]
  },
  {
   "cell_type": "code",
   "execution_count": 16,
   "metadata": {},
   "outputs": [
    {
     "data": {
      "text/plain": [
       "Beach Name\n",
       "63rd Street Beach     7.628707\n",
       "Calumet Beach         1.529727\n",
       "Montrose Beach        4.332926\n",
       "Ohio Street Beach    27.272717\n",
       "Osterman Beach        4.127782\n",
       "Rainbow Beach         1.097441\n",
       "Name: Turbidity, dtype: float64"
      ]
     },
     "execution_count": 16,
     "metadata": {},
     "output_type": "execute_result"
    }
   ],
   "source": [
    "mu_turbidity_2014_df"
   ]
  },
  {
   "cell_type": "code",
   "execution_count": 17,
   "metadata": {},
   "outputs": [
    {
     "data": {
      "image/png": "[encoded data removed]",
      "text/plain": [
       "<Figure size 432x288 with 1 Axes>"
      ]
     },
     "metadata": {
      "needs_background": "light"
     },
     "output_type": "display_data"
    }
   ],
   "source": [
    "x = mu_turbidity_2014_df.plot.bar()"
   ]
  },
  {
   "cell_type": "code",
   "execution_count": 18,
   "metadata": {},
   "outputs": [
    {
     "data": {
      "text/plain": [
       "Beach Name\n",
       "63rd Street Beach     2.608415\n",
       "Calumet Beach         2.087182\n",
       "Montrose Beach        3.929488\n",
       "Ohio Street Beach     1.977578\n",
       "Osterman Beach       12.451613\n",
       "Rainbow Beach         3.980990\n",
       "Name: Turbidity, dtype: float64"
      ]
     },
     "execution_count": 18,
     "metadata": {},
     "output_type": "execute_result"
    }
   ],
   "source": [
    "mu_turbidity_2015_df"
   ]
  },
  {
   "cell_type": "code",
   "execution_count": 19,
   "metadata": {},
   "outputs": [
    {
     "data": {
      "image/png": "[encoded data removed]",
      "text/plain": [
       "<Figure size 432x288 with 1 Axes>"
      ]
     },
     "metadata": {
      "needs_background": "light"
     },
     "output_type": "display_data"
    }
   ],
   "source": [
    "x = mu_turbidity_2015_df.plot.bar()"
   ]
  },
  {
   "cell_type": "code",
   "execution_count": 20,
   "metadata": {},
   "outputs": [
    {
     "data": {
      "text/plain": [
       "Beach Name\n",
       "Calumet Beach        1.950306\n",
       "Montrose Beach       0.606981\n",
       "Ohio Street Beach    2.859882\n",
       "Name: Turbidity, dtype: float64"
      ]
     },
     "execution_count": 20,
     "metadata": {},
     "output_type": "execute_result"
    }
   ],
   "source": [
    "mu_turbidity_2016_df"
   ]
  },
  {
   "cell_type": "code",
   "execution_count": 21,
   "metadata": {},
   "outputs": [
    {
     "data": {
      "image/png": "[encoded data removed]",
      "text/plain": [
       "<Figure size 432x288 with 1 Axes>"
      ]
     },
     "metadata": {
      "needs_background": "light"
     },
     "output_type": "display_data"
    }
   ],
   "source": [
    "x = mu_turbidity_2016_df.plot.bar()"
   ]
  },
  {
   "cell_type": "code",
   "execution_count": 22,
   "metadata": {},
   "outputs": [
    {
     "data": {
      "text/plain": [
       "Beach Name\n",
       "Ohio Street Beach    2.508552\n",
       "Name: Turbidity, dtype: float64"
      ]
     },
     "execution_count": 22,
     "metadata": {},
     "output_type": "execute_result"
    }
   ],
   "source": [
    "mu_turbidity_2017_df"
   ]
  },
  {
   "cell_type": "code",
   "execution_count": 23,
   "metadata": {},
   "outputs": [
    {
     "data": {
      "image/png": "[encoded data removed]",
      "text/plain": [
       "<Figure size 432x288 with 1 Axes>"
      ]
     },
     "metadata": {
      "needs_background": "light"
     },
     "output_type": "display_data"
    }
   ],
   "source": [
    "x = mu_turbidity_2017_df.plot.bar()"
   ]
  },
  {
   "cell_type": "code",
   "execution_count": 24,
   "metadata": {},
   "outputs": [
    {
     "data": {
      "text/plain": [
       "Beach Name\n",
       "Calumet Beach        3.150000\n",
       "Ohio Street Beach    1.798583\n",
       "Name: Turbidity, dtype: float64"
      ]
     },
     "execution_count": 24,
     "metadata": {},
     "output_type": "execute_result"
    }
   ],
   "source": [
    "mu_turbidity_2018_df"
   ]
  },
  {
   "cell_type": "code",
   "execution_count": 25,
   "metadata": {},
   "outputs": [
    {
     "data": {
      "image/png": "[encoded data removed]",
      "text/plain": [
       "<Figure size 432x288 with 1 Axes>"
      ]
     },
     "metadata": {
      "needs_background": "light"
     },
     "output_type": "display_data"
    }
   ],
   "source": [
    "x = mu_turbidity_2018_df.plot.bar()"
   ]
  },
  {
   "cell_type": "code",
   "execution_count": 26,
   "metadata": {},
   "outputs": [
    {
     "data": {
      "text/plain": [
       "Beach Name\n",
       "Ohio Street Beach    2.42035\n",
       "Name: Turbidity, dtype: float64"
      ]
     },
     "execution_count": 26,
     "metadata": {},
     "output_type": "execute_result"
    }
   ],
   "source": [
    "mu_turbidity_2019_df"
   ]
  },
  {
   "cell_type": "code",
   "execution_count": 27,
   "metadata": {},
   "outputs": [
    {
     "data": {
      "image/png": "[encoded data removed]",
      "text/plain": [
       "<Figure size 432x288 with 1 Axes>"
      ]
     },
     "metadata": {
      "needs_background": "light"
     },
     "output_type": "display_data"
    }
   ],
   "source": [
    "x = mu_turbidity_2019_df.plot.bar()"
   ]
  },
  {
   "cell_type": "code",
   "execution_count": 28,
   "metadata": {},
   "outputs": [
    {
     "data": {
      "text/plain": [
       "Beach Name\n",
       "63rd Street Beach    -1347.386252\n",
       "Calumet Beach            0.152585\n",
       "Montrose Beach           0.202249\n",
       "Ohio Street Beach     -287.751254\n",
       "Osterman Beach           0.184694\n",
       "Rainbow Beach       -13379.676708\n",
       "Name: Wave Height, dtype: float64"
      ]
     },
     "execution_count": 28,
     "metadata": {},
     "output_type": "execute_result"
    }
   ],
   "source": [
    "waves = beach_quality_df.groupby(\"Beach Name\")[\"Wave Height\"].mean()\n",
    "waves "
   ]
  },
  {
   "cell_type": "code",
   "execution_count": 29,
   "metadata": {},
   "outputs": [
    {
     "data": {
      "image/png": "[encoded data removed]",
      "text/plain": [
       "<Figure size 432x288 with 1 Axes>"
      ]
     },
     "metadata": {
      "needs_background": "light"
     },
     "output_type": "display_data"
    }
   ],
   "source": [
    "xwaves = waves.plot.bar()"
   ]
  },
  {
   "cell_type": "code",
   "execution_count": 30,
   "metadata": {},
   "outputs": [
    {
     "data": {
      "text/plain": [
       "(39240, 10)"
      ]
     },
     "execution_count": 30,
     "metadata": {},
     "output_type": "execute_result"
    }
   ],
   "source": [
    "beach_quality_df.dropna(subset= ['Wave Height']).shape"
   ]
  },
  {
   "cell_type": "code",
   "execution_count": 31,
   "metadata": {},
   "outputs": [
    {
     "data": {
      "text/plain": [
       "Beach Name\n",
       "63rd Street Beach    -1347.386252\n",
       "Calumet Beach            0.152585\n",
       "Montrose Beach           0.202249\n",
       "Ohio Street Beach     -287.751254\n",
       "Osterman Beach           0.184694\n",
       "Rainbow Beach       -13379.676708\n",
       "Name: Wave Height, dtype: float64"
      ]
     },
     "execution_count": 31,
     "metadata": {},
     "output_type": "execute_result"
    }
   ],
   "source": [
    "waves.replace('', np.NaN)"
   ]
  },
  {
   "cell_type": "code",
   "execution_count": 32,
   "metadata": {},
   "outputs": [],
   "source": [
    "beach_quality_df.columns = [c.replace(' ', '_') for c in beach_quality_df.columns]"
   ]
  },
  {
   "cell_type": "code",
   "execution_count": 33,
   "metadata": {},
   "outputs": [
    {
     "data": {
      "text/plain": [
       "Index(['Beach_Name', 'Measurement_Timestamp', 'Water_Temperature', 'Turbidity',\n",
       "       'Transducer_Depth', 'Wave_Height', 'Wave_Period', 'Battery_Life',\n",
       "       'Measurement_Timestamp_Label', 'Measurement_ID'],\n",
       "      dtype='object')"
      ]
     },
     "execution_count": 33,
     "metadata": {},
     "output_type": "execute_result"
    }
   ],
   "source": [
    "beach_quality_df.columns"
   ]
  },
  {
   "cell_type": "code",
   "execution_count": 34,
   "metadata": {},
   "outputs": [
    {
     "data": {
      "text/html": [
       "<div>\n",
       "<style scoped>\n",
       "    .dataframe tbody tr th:only-of-type {\n",
       "        vertical-align: middle;\n",
       "    }\n",
       "\n",
       "    .dataframe tbody tr th {\n",
       "        vertical-align: top;\n",
       "    }\n",
       "\n",
       "    .dataframe thead th {\n",
       "        text-align: right;\n",
       "    }\n",
       "</style>\n",
       "<table border=\"1\" class=\"dataframe\">\n",
       "  <thead>\n",
       "    <tr style=\"text-align: right;\">\n",
       "      <th></th>\n",
       "      <th>Beach_Name</th>\n",
       "      <th>Measurement_Timestamp</th>\n",
       "      <th>Water_Temperature</th>\n",
       "      <th>Turbidity</th>\n",
       "      <th>Transducer_Depth</th>\n",
       "      <th>Wave_Height</th>\n",
       "      <th>Wave_Period</th>\n",
       "      <th>Battery_Life</th>\n",
       "      <th>Measurement_Timestamp_Label</th>\n",
       "      <th>Measurement_ID</th>\n",
       "    </tr>\n",
       "  </thead>\n",
       "  <tbody>\n",
       "    <tr>\n",
       "      <th>3375</th>\n",
       "      <td>63rd Street Beach</td>\n",
       "      <td>9/11/15 19:00</td>\n",
       "      <td>20.0</td>\n",
       "      <td>5.83</td>\n",
       "      <td>NaN</td>\n",
       "      <td>-99999.992</td>\n",
       "      <td>-100000.0</td>\n",
       "      <td>10.6</td>\n",
       "      <td>9/11/15 19:00</td>\n",
       "      <td>63rdStreetBeach201509111900</td>\n",
       "    </tr>\n",
       "    <tr>\n",
       "      <th>3376</th>\n",
       "      <td>63rd Street Beach</td>\n",
       "      <td>9/11/15 21:00</td>\n",
       "      <td>19.5</td>\n",
       "      <td>8.81</td>\n",
       "      <td>NaN</td>\n",
       "      <td>-99999.992</td>\n",
       "      <td>-100000.0</td>\n",
       "      <td>5.6</td>\n",
       "      <td>9/11/15 21:00</td>\n",
       "      <td>63rdStreetBeach201509112100</td>\n",
       "    </tr>\n",
       "    <tr>\n",
       "      <th>3377</th>\n",
       "      <td>63rd Street Beach</td>\n",
       "      <td>9/11/15 22:00</td>\n",
       "      <td>19.2</td>\n",
       "      <td>14.59</td>\n",
       "      <td>NaN</td>\n",
       "      <td>-99999.992</td>\n",
       "      <td>-100000.0</td>\n",
       "      <td>5.3</td>\n",
       "      <td>9/11/15 22:00</td>\n",
       "      <td>63rdStreetBeach201509112200</td>\n",
       "    </tr>\n",
       "    <tr>\n",
       "      <th>3378</th>\n",
       "      <td>63rd Street Beach</td>\n",
       "      <td>9/11/15 23:00</td>\n",
       "      <td>19.1</td>\n",
       "      <td>9.56</td>\n",
       "      <td>NaN</td>\n",
       "      <td>-99999.992</td>\n",
       "      <td>-100000.0</td>\n",
       "      <td>5.5</td>\n",
       "      <td>9/11/15 23:00</td>\n",
       "      <td>63rdStreetBeach201509112300</td>\n",
       "    </tr>\n",
       "    <tr>\n",
       "      <th>3380</th>\n",
       "      <td>63rd Street Beach</td>\n",
       "      <td>9/12/15 1:00</td>\n",
       "      <td>19.2</td>\n",
       "      <td>14.10</td>\n",
       "      <td>NaN</td>\n",
       "      <td>-99999.992</td>\n",
       "      <td>-100000.0</td>\n",
       "      <td>5.4</td>\n",
       "      <td>9/12/15 1:00</td>\n",
       "      <td>63rdStreetBeach201509120100</td>\n",
       "    </tr>\n",
       "    <tr>\n",
       "      <th>...</th>\n",
       "      <td>...</td>\n",
       "      <td>...</td>\n",
       "      <td>...</td>\n",
       "      <td>...</td>\n",
       "      <td>...</td>\n",
       "      <td>...</td>\n",
       "      <td>...</td>\n",
       "      <td>...</td>\n",
       "      <td>...</td>\n",
       "      <td>...</td>\n",
       "    </tr>\n",
       "    <tr>\n",
       "      <th>34914</th>\n",
       "      <td>Rainbow Beach</td>\n",
       "      <td>10/1/15 2:00</td>\n",
       "      <td>16.2</td>\n",
       "      <td>55.64</td>\n",
       "      <td>NaN</td>\n",
       "      <td>-99999.992</td>\n",
       "      <td>-100000.0</td>\n",
       "      <td>9.5</td>\n",
       "      <td>10/1/15 2:00</td>\n",
       "      <td>RainbowBeach201510010200</td>\n",
       "    </tr>\n",
       "    <tr>\n",
       "      <th>34915</th>\n",
       "      <td>Rainbow Beach</td>\n",
       "      <td>10/1/15 3:00</td>\n",
       "      <td>16.2</td>\n",
       "      <td>21.96</td>\n",
       "      <td>NaN</td>\n",
       "      <td>-99999.992</td>\n",
       "      <td>-100000.0</td>\n",
       "      <td>5.3</td>\n",
       "      <td>10/1/15 3:00</td>\n",
       "      <td>RainbowBeach201510010300</td>\n",
       "    </tr>\n",
       "    <tr>\n",
       "      <th>34916</th>\n",
       "      <td>Rainbow Beach</td>\n",
       "      <td>10/1/15 4:00</td>\n",
       "      <td>15.8</td>\n",
       "      <td>0.15</td>\n",
       "      <td>NaN</td>\n",
       "      <td>-99999.992</td>\n",
       "      <td>-100000.0</td>\n",
       "      <td>10.4</td>\n",
       "      <td>10/1/15 4:00</td>\n",
       "      <td>RainbowBeach201510010400</td>\n",
       "    </tr>\n",
       "    <tr>\n",
       "      <th>34917</th>\n",
       "      <td>Rainbow Beach</td>\n",
       "      <td>10/1/15 5:00</td>\n",
       "      <td>15.9</td>\n",
       "      <td>8.59</td>\n",
       "      <td>NaN</td>\n",
       "      <td>-99999.992</td>\n",
       "      <td>-100000.0</td>\n",
       "      <td>5.7</td>\n",
       "      <td>10/1/15 5:00</td>\n",
       "      <td>RainbowBeach201510010500</td>\n",
       "    </tr>\n",
       "    <tr>\n",
       "      <th>34918</th>\n",
       "      <td>Rainbow Beach</td>\n",
       "      <td>10/1/15 6:00</td>\n",
       "      <td>15.8</td>\n",
       "      <td>357.35</td>\n",
       "      <td>NaN</td>\n",
       "      <td>-99999.992</td>\n",
       "      <td>-100000.0</td>\n",
       "      <td>10.4</td>\n",
       "      <td>10/1/15 6:00</td>\n",
       "      <td>RainbowBeach201510010600</td>\n",
       "    </tr>\n",
       "  </tbody>\n",
       "</table>\n",
       "<p>524 rows × 10 columns</p>\n",
       "</div>"
      ],
      "text/plain": [
       "              Beach_Name Measurement_Timestamp  Water_Temperature  Turbidity  \\\n",
       "3375   63rd Street Beach         9/11/15 19:00               20.0       5.83   \n",
       "3376   63rd Street Beach         9/11/15 21:00               19.5       8.81   \n",
       "3377   63rd Street Beach         9/11/15 22:00               19.2      14.59   \n",
       "3378   63rd Street Beach         9/11/15 23:00               19.1       9.56   \n",
       "3380   63rd Street Beach          9/12/15 1:00               19.2      14.10   \n",
       "...                  ...                   ...                ...        ...   \n",
       "34914      Rainbow Beach          10/1/15 2:00               16.2      55.64   \n",
       "34915      Rainbow Beach          10/1/15 3:00               16.2      21.96   \n",
       "34916      Rainbow Beach          10/1/15 4:00               15.8       0.15   \n",
       "34917      Rainbow Beach          10/1/15 5:00               15.9       8.59   \n",
       "34918      Rainbow Beach          10/1/15 6:00               15.8     357.35   \n",
       "\n",
       "       Transducer_Depth  Wave_Height  Wave_Period  Battery_Life  \\\n",
       "3375                NaN   -99999.992    -100000.0          10.6   \n",
       "3376                NaN   -99999.992    -100000.0           5.6   \n",
       "3377                NaN   -99999.992    -100000.0           5.3   \n",
       "3378                NaN   -99999.992    -100000.0           5.5   \n",
       "3380                NaN   -99999.992    -100000.0           5.4   \n",
       "...                 ...          ...          ...           ...   \n",
       "34914               NaN   -99999.992    -100000.0           9.5   \n",
       "34915               NaN   -99999.992    -100000.0           5.3   \n",
       "34916               NaN   -99999.992    -100000.0          10.4   \n",
       "34917               NaN   -99999.992    -100000.0           5.7   \n",
       "34918               NaN   -99999.992    -100000.0          10.4   \n",
       "\n",
       "      Measurement_Timestamp_Label               Measurement_ID  \n",
       "3375                9/11/15 19:00  63rdStreetBeach201509111900  \n",
       "3376                9/11/15 21:00  63rdStreetBeach201509112100  \n",
       "3377                9/11/15 22:00  63rdStreetBeach201509112200  \n",
       "3378                9/11/15 23:00  63rdStreetBeach201509112300  \n",
       "3380                 9/12/15 1:00  63rdStreetBeach201509120100  \n",
       "...                           ...                          ...  \n",
       "34914                10/1/15 2:00     RainbowBeach201510010200  \n",
       "34915                10/1/15 3:00     RainbowBeach201510010300  \n",
       "34916                10/1/15 4:00     RainbowBeach201510010400  \n",
       "34917                10/1/15 5:00     RainbowBeach201510010500  \n",
       "34918                10/1/15 6:00     RainbowBeach201510010600  \n",
       "\n",
       "[524 rows x 10 columns]"
      ]
     },
     "execution_count": 34,
     "metadata": {},
     "output_type": "execute_result"
    }
   ],
   "source": [
    "beach_quality_df[beach_quality_df.Wave_Height<0]"
   ]
  },
  {
   "cell_type": "code",
   "execution_count": 35,
   "metadata": {},
   "outputs": [
    {
     "data": {
      "text/html": [
       "<div>\n",
       "<style scoped>\n",
       "    .dataframe tbody tr th:only-of-type {\n",
       "        vertical-align: middle;\n",
       "    }\n",
       "\n",
       "    .dataframe tbody tr th {\n",
       "        vertical-align: top;\n",
       "    }\n",
       "\n",
       "    .dataframe thead th {\n",
       "        text-align: right;\n",
       "    }\n",
       "</style>\n",
       "<table border=\"1\" class=\"dataframe\">\n",
       "  <thead>\n",
       "    <tr style=\"text-align: right;\">\n",
       "      <th></th>\n",
       "      <th>Beach_Name</th>\n",
       "      <th>Measurement_Timestamp</th>\n",
       "      <th>Water_Temperature</th>\n",
       "      <th>Turbidity</th>\n",
       "      <th>Transducer_Depth</th>\n",
       "      <th>Wave_Height</th>\n",
       "      <th>Wave_Period</th>\n",
       "      <th>Battery_Life</th>\n",
       "      <th>Measurement_Timestamp_Label</th>\n",
       "      <th>Measurement_ID</th>\n",
       "    </tr>\n",
       "  </thead>\n",
       "  <tbody>\n",
       "    <tr>\n",
       "      <th>3375</th>\n",
       "      <td>63rd Street Beach</td>\n",
       "      <td>9/11/15 19:00</td>\n",
       "      <td>20.0</td>\n",
       "      <td>5.83</td>\n",
       "      <td>NaN</td>\n",
       "      <td>-99999.992</td>\n",
       "      <td>-100000.0</td>\n",
       "      <td>10.6</td>\n",
       "      <td>9/11/15 19:00</td>\n",
       "      <td>63rdStreetBeach201509111900</td>\n",
       "    </tr>\n",
       "    <tr>\n",
       "      <th>3376</th>\n",
       "      <td>63rd Street Beach</td>\n",
       "      <td>9/11/15 21:00</td>\n",
       "      <td>19.5</td>\n",
       "      <td>8.81</td>\n",
       "      <td>NaN</td>\n",
       "      <td>-99999.992</td>\n",
       "      <td>-100000.0</td>\n",
       "      <td>5.6</td>\n",
       "      <td>9/11/15 21:00</td>\n",
       "      <td>63rdStreetBeach201509112100</td>\n",
       "    </tr>\n",
       "    <tr>\n",
       "      <th>3377</th>\n",
       "      <td>63rd Street Beach</td>\n",
       "      <td>9/11/15 22:00</td>\n",
       "      <td>19.2</td>\n",
       "      <td>14.59</td>\n",
       "      <td>NaN</td>\n",
       "      <td>-99999.992</td>\n",
       "      <td>-100000.0</td>\n",
       "      <td>5.3</td>\n",
       "      <td>9/11/15 22:00</td>\n",
       "      <td>63rdStreetBeach201509112200</td>\n",
       "    </tr>\n",
       "    <tr>\n",
       "      <th>3378</th>\n",
       "      <td>63rd Street Beach</td>\n",
       "      <td>9/11/15 23:00</td>\n",
       "      <td>19.1</td>\n",
       "      <td>9.56</td>\n",
       "      <td>NaN</td>\n",
       "      <td>-99999.992</td>\n",
       "      <td>-100000.0</td>\n",
       "      <td>5.5</td>\n",
       "      <td>9/11/15 23:00</td>\n",
       "      <td>63rdStreetBeach201509112300</td>\n",
       "    </tr>\n",
       "    <tr>\n",
       "      <th>3380</th>\n",
       "      <td>63rd Street Beach</td>\n",
       "      <td>9/12/15 1:00</td>\n",
       "      <td>19.2</td>\n",
       "      <td>14.10</td>\n",
       "      <td>NaN</td>\n",
       "      <td>-99999.992</td>\n",
       "      <td>-100000.0</td>\n",
       "      <td>5.4</td>\n",
       "      <td>9/12/15 1:00</td>\n",
       "      <td>63rdStreetBeach201509120100</td>\n",
       "    </tr>\n",
       "    <tr>\n",
       "      <th>...</th>\n",
       "      <td>...</td>\n",
       "      <td>...</td>\n",
       "      <td>...</td>\n",
       "      <td>...</td>\n",
       "      <td>...</td>\n",
       "      <td>...</td>\n",
       "      <td>...</td>\n",
       "      <td>...</td>\n",
       "      <td>...</td>\n",
       "      <td>...</td>\n",
       "    </tr>\n",
       "    <tr>\n",
       "      <th>34914</th>\n",
       "      <td>Rainbow Beach</td>\n",
       "      <td>10/1/15 2:00</td>\n",
       "      <td>16.2</td>\n",
       "      <td>55.64</td>\n",
       "      <td>NaN</td>\n",
       "      <td>-99999.992</td>\n",
       "      <td>-100000.0</td>\n",
       "      <td>9.5</td>\n",
       "      <td>10/1/15 2:00</td>\n",
       "      <td>RainbowBeach201510010200</td>\n",
       "    </tr>\n",
       "    <tr>\n",
       "      <th>34915</th>\n",
       "      <td>Rainbow Beach</td>\n",
       "      <td>10/1/15 3:00</td>\n",
       "      <td>16.2</td>\n",
       "      <td>21.96</td>\n",
       "      <td>NaN</td>\n",
       "      <td>-99999.992</td>\n",
       "      <td>-100000.0</td>\n",
       "      <td>5.3</td>\n",
       "      <td>10/1/15 3:00</td>\n",
       "      <td>RainbowBeach201510010300</td>\n",
       "    </tr>\n",
       "    <tr>\n",
       "      <th>34916</th>\n",
       "      <td>Rainbow Beach</td>\n",
       "      <td>10/1/15 4:00</td>\n",
       "      <td>15.8</td>\n",
       "      <td>0.15</td>\n",
       "      <td>NaN</td>\n",
       "      <td>-99999.992</td>\n",
       "      <td>-100000.0</td>\n",
       "      <td>10.4</td>\n",
       "      <td>10/1/15 4:00</td>\n",
       "      <td>RainbowBeach201510010400</td>\n",
       "    </tr>\n",
       "    <tr>\n",
       "      <th>34917</th>\n",
       "      <td>Rainbow Beach</td>\n",
       "      <td>10/1/15 5:00</td>\n",
       "      <td>15.9</td>\n",
       "      <td>8.59</td>\n",
       "      <td>NaN</td>\n",
       "      <td>-99999.992</td>\n",
       "      <td>-100000.0</td>\n",
       "      <td>5.7</td>\n",
       "      <td>10/1/15 5:00</td>\n",
       "      <td>RainbowBeach201510010500</td>\n",
       "    </tr>\n",
       "    <tr>\n",
       "      <th>34918</th>\n",
       "      <td>Rainbow Beach</td>\n",
       "      <td>10/1/15 6:00</td>\n",
       "      <td>15.8</td>\n",
       "      <td>357.35</td>\n",
       "      <td>NaN</td>\n",
       "      <td>-99999.992</td>\n",
       "      <td>-100000.0</td>\n",
       "      <td>10.4</td>\n",
       "      <td>10/1/15 6:00</td>\n",
       "      <td>RainbowBeach201510010600</td>\n",
       "    </tr>\n",
       "  </tbody>\n",
       "</table>\n",
       "<p>524 rows × 10 columns</p>\n",
       "</div>"
      ],
      "text/plain": [
       "              Beach_Name Measurement_Timestamp  Water_Temperature  Turbidity  \\\n",
       "3375   63rd Street Beach         9/11/15 19:00               20.0       5.83   \n",
       "3376   63rd Street Beach         9/11/15 21:00               19.5       8.81   \n",
       "3377   63rd Street Beach         9/11/15 22:00               19.2      14.59   \n",
       "3378   63rd Street Beach         9/11/15 23:00               19.1       9.56   \n",
       "3380   63rd Street Beach          9/12/15 1:00               19.2      14.10   \n",
       "...                  ...                   ...                ...        ...   \n",
       "34914      Rainbow Beach          10/1/15 2:00               16.2      55.64   \n",
       "34915      Rainbow Beach          10/1/15 3:00               16.2      21.96   \n",
       "34916      Rainbow Beach          10/1/15 4:00               15.8       0.15   \n",
       "34917      Rainbow Beach          10/1/15 5:00               15.9       8.59   \n",
       "34918      Rainbow Beach          10/1/15 6:00               15.8     357.35   \n",
       "\n",
       "       Transducer_Depth  Wave_Height  Wave_Period  Battery_Life  \\\n",
       "3375                NaN   -99999.992    -100000.0          10.6   \n",
       "3376                NaN   -99999.992    -100000.0           5.6   \n",
       "3377                NaN   -99999.992    -100000.0           5.3   \n",
       "3378                NaN   -99999.992    -100000.0           5.5   \n",
       "3380                NaN   -99999.992    -100000.0           5.4   \n",
       "...                 ...          ...          ...           ...   \n",
       "34914               NaN   -99999.992    -100000.0           9.5   \n",
       "34915               NaN   -99999.992    -100000.0           5.3   \n",
       "34916               NaN   -99999.992    -100000.0          10.4   \n",
       "34917               NaN   -99999.992    -100000.0           5.7   \n",
       "34918               NaN   -99999.992    -100000.0          10.4   \n",
       "\n",
       "      Measurement_Timestamp_Label               Measurement_ID  \n",
       "3375                9/11/15 19:00  63rdStreetBeach201509111900  \n",
       "3376                9/11/15 21:00  63rdStreetBeach201509112100  \n",
       "3377                9/11/15 22:00  63rdStreetBeach201509112200  \n",
       "3378                9/11/15 23:00  63rdStreetBeach201509112300  \n",
       "3380                 9/12/15 1:00  63rdStreetBeach201509120100  \n",
       "...                           ...                          ...  \n",
       "34914                10/1/15 2:00     RainbowBeach201510010200  \n",
       "34915                10/1/15 3:00     RainbowBeach201510010300  \n",
       "34916                10/1/15 4:00     RainbowBeach201510010400  \n",
       "34917                10/1/15 5:00     RainbowBeach201510010500  \n",
       "34918                10/1/15 6:00     RainbowBeach201510010600  \n",
       "\n",
       "[524 rows x 10 columns]"
      ]
     },
     "execution_count": 35,
     "metadata": {},
     "output_type": "execute_result"
    }
   ],
   "source": [
    "negatives = beach_quality_df[beach_quality_df['Wave_Height'] < 0]\n",
    "negatives"
   ]
  },
  {
   "cell_type": "code",
   "execution_count": 36,
   "metadata": {},
   "outputs": [
    {
     "data": {
      "text/html": [
       "<div>\n",
       "<style scoped>\n",
       "    .dataframe tbody tr th:only-of-type {\n",
       "        vertical-align: middle;\n",
       "    }\n",
       "\n",
       "    .dataframe tbody tr th {\n",
       "        vertical-align: top;\n",
       "    }\n",
       "\n",
       "    .dataframe thead th {\n",
       "        text-align: right;\n",
       "    }\n",
       "</style>\n",
       "<table border=\"1\" class=\"dataframe\">\n",
       "  <thead>\n",
       "    <tr style=\"text-align: right;\">\n",
       "      <th></th>\n",
       "      <th>Beach_Name</th>\n",
       "      <th>Measurement_Timestamp</th>\n",
       "      <th>Water_Temperature</th>\n",
       "      <th>Turbidity</th>\n",
       "      <th>Transducer_Depth</th>\n",
       "      <th>Wave_Height</th>\n",
       "      <th>Wave_Period</th>\n",
       "      <th>Battery_Life</th>\n",
       "      <th>Measurement_Timestamp_Label</th>\n",
       "      <th>Measurement_ID</th>\n",
       "    </tr>\n",
       "  </thead>\n",
       "  <tbody>\n",
       "    <tr>\n",
       "      <th>0</th>\n",
       "      <td>Ohio Street Beach</td>\n",
       "      <td>6/2/19 17:00</td>\n",
       "      <td>17.1</td>\n",
       "      <td>0.78</td>\n",
       "      <td>NaN</td>\n",
       "      <td>0.232</td>\n",
       "      <td>4.0</td>\n",
       "      <td>10.9</td>\n",
       "      <td>6/2/19 17:00</td>\n",
       "      <td>OhioStreetBeach201906021700</td>\n",
       "    </tr>\n",
       "    <tr>\n",
       "      <th>1</th>\n",
       "      <td>63rd Street Beach</td>\n",
       "      <td>9/18/13 10:00</td>\n",
       "      <td>18.9</td>\n",
       "      <td>7.56</td>\n",
       "      <td>1.517</td>\n",
       "      <td>0.140</td>\n",
       "      <td>4.0</td>\n",
       "      <td>11.0</td>\n",
       "      <td>9/18/13 10:00</td>\n",
       "      <td>63rdStreetBeach201309181000</td>\n",
       "    </tr>\n",
       "    <tr>\n",
       "      <th>2</th>\n",
       "      <td>63rd Street Beach</td>\n",
       "      <td>6/12/14 12:00</td>\n",
       "      <td>25.4</td>\n",
       "      <td>3.45</td>\n",
       "      <td>-0.072</td>\n",
       "      <td>0.031</td>\n",
       "      <td>9.0</td>\n",
       "      <td>12.2</td>\n",
       "      <td>6/12/14 12:00</td>\n",
       "      <td>63rdStreetBeach201406121200</td>\n",
       "    </tr>\n",
       "    <tr>\n",
       "      <th>3</th>\n",
       "      <td>63rd Street Beach</td>\n",
       "      <td>6/12/14 13:00</td>\n",
       "      <td>18.1</td>\n",
       "      <td>3.31</td>\n",
       "      <td>1.818</td>\n",
       "      <td>0.339</td>\n",
       "      <td>10.0</td>\n",
       "      <td>12.2</td>\n",
       "      <td>6/12/14 13:00</td>\n",
       "      <td>63rdStreetBeach201406121300</td>\n",
       "    </tr>\n",
       "    <tr>\n",
       "      <th>4</th>\n",
       "      <td>63rd Street Beach</td>\n",
       "      <td>6/12/14 14:00</td>\n",
       "      <td>17.5</td>\n",
       "      <td>2.93</td>\n",
       "      <td>1.545</td>\n",
       "      <td>0.136</td>\n",
       "      <td>4.0</td>\n",
       "      <td>12.2</td>\n",
       "      <td>6/12/14 14:00</td>\n",
       "      <td>63rdStreetBeach201406121400</td>\n",
       "    </tr>\n",
       "    <tr>\n",
       "      <th>...</th>\n",
       "      <td>...</td>\n",
       "      <td>...</td>\n",
       "      <td>...</td>\n",
       "      <td>...</td>\n",
       "      <td>...</td>\n",
       "      <td>...</td>\n",
       "      <td>...</td>\n",
       "      <td>...</td>\n",
       "      <td>...</td>\n",
       "      <td>...</td>\n",
       "    </tr>\n",
       "    <tr>\n",
       "      <th>39462</th>\n",
       "      <td>Ohio Street Beach</td>\n",
       "      <td>9/7/19 15:00</td>\n",
       "      <td>19.2</td>\n",
       "      <td>20.78</td>\n",
       "      <td>NaN</td>\n",
       "      <td>0.192</td>\n",
       "      <td>4.0</td>\n",
       "      <td>10.5</td>\n",
       "      <td>9/7/19 15:00</td>\n",
       "      <td>OhioStreetBeach201909071500</td>\n",
       "    </tr>\n",
       "    <tr>\n",
       "      <th>39464</th>\n",
       "      <td>Calumet Beach</td>\n",
       "      <td>9/20/16 13:00</td>\n",
       "      <td>21.7</td>\n",
       "      <td>3.15</td>\n",
       "      <td>NaN</td>\n",
       "      <td>0.389</td>\n",
       "      <td>3.0</td>\n",
       "      <td>9.4</td>\n",
       "      <td>9/20/16 13:00</td>\n",
       "      <td>CalumetBeach201609201300</td>\n",
       "    </tr>\n",
       "    <tr>\n",
       "      <th>39465</th>\n",
       "      <td>Montrose Beach</td>\n",
       "      <td>9/14/16 19:00</td>\n",
       "      <td>21.9</td>\n",
       "      <td>0.01</td>\n",
       "      <td>NaN</td>\n",
       "      <td>0.360</td>\n",
       "      <td>3.0</td>\n",
       "      <td>9.4</td>\n",
       "      <td>9/14/16 19:00</td>\n",
       "      <td>MontroseBeach201609141900</td>\n",
       "    </tr>\n",
       "    <tr>\n",
       "      <th>39466</th>\n",
       "      <td>Ohio Street Beach</td>\n",
       "      <td>9/11/19 11:00</td>\n",
       "      <td>23.8</td>\n",
       "      <td>0.00</td>\n",
       "      <td>NaN</td>\n",
       "      <td>0.028</td>\n",
       "      <td>10.0</td>\n",
       "      <td>10.2</td>\n",
       "      <td>9/11/19 11:00</td>\n",
       "      <td>OhioStreetBeach201909111100</td>\n",
       "    </tr>\n",
       "    <tr>\n",
       "      <th>39467</th>\n",
       "      <td>Osterman Beach</td>\n",
       "      <td>9/10/15 10:00</td>\n",
       "      <td>18.6</td>\n",
       "      <td>0.37</td>\n",
       "      <td>NaN</td>\n",
       "      <td>0.159</td>\n",
       "      <td>2.0</td>\n",
       "      <td>11.6</td>\n",
       "      <td>9/10/15 10:00</td>\n",
       "      <td>OstermanBeach201509101000</td>\n",
       "    </tr>\n",
       "  </tbody>\n",
       "</table>\n",
       "<p>38716 rows × 10 columns</p>\n",
       "</div>"
      ],
      "text/plain": [
       "              Beach_Name Measurement_Timestamp  Water_Temperature  Turbidity  \\\n",
       "0      Ohio Street Beach          6/2/19 17:00               17.1       0.78   \n",
       "1      63rd Street Beach         9/18/13 10:00               18.9       7.56   \n",
       "2      63rd Street Beach         6/12/14 12:00               25.4       3.45   \n",
       "3      63rd Street Beach         6/12/14 13:00               18.1       3.31   \n",
       "4      63rd Street Beach         6/12/14 14:00               17.5       2.93   \n",
       "...                  ...                   ...                ...        ...   \n",
       "39462  Ohio Street Beach          9/7/19 15:00               19.2      20.78   \n",
       "39464      Calumet Beach         9/20/16 13:00               21.7       3.15   \n",
       "39465     Montrose Beach         9/14/16 19:00               21.9       0.01   \n",
       "39466  Ohio Street Beach         9/11/19 11:00               23.8       0.00   \n",
       "39467     Osterman Beach         9/10/15 10:00               18.6       0.37   \n",
       "\n",
       "       Transducer_Depth  Wave_Height  Wave_Period  Battery_Life  \\\n",
       "0                   NaN        0.232          4.0          10.9   \n",
       "1                 1.517        0.140          4.0          11.0   \n",
       "2                -0.072        0.031          9.0          12.2   \n",
       "3                 1.818        0.339         10.0          12.2   \n",
       "4                 1.545        0.136          4.0          12.2   \n",
       "...                 ...          ...          ...           ...   \n",
       "39462               NaN        0.192          4.0          10.5   \n",
       "39464               NaN        0.389          3.0           9.4   \n",
       "39465               NaN        0.360          3.0           9.4   \n",
       "39466               NaN        0.028         10.0          10.2   \n",
       "39467               NaN        0.159          2.0          11.6   \n",
       "\n",
       "      Measurement_Timestamp_Label               Measurement_ID  \n",
       "0                    6/2/19 17:00  OhioStreetBeach201906021700  \n",
       "1                   9/18/13 10:00  63rdStreetBeach201309181000  \n",
       "2                   6/12/14 12:00  63rdStreetBeach201406121200  \n",
       "3                   6/12/14 13:00  63rdStreetBeach201406121300  \n",
       "4                   6/12/14 14:00  63rdStreetBeach201406121400  \n",
       "...                           ...                          ...  \n",
       "39462                9/7/19 15:00  OhioStreetBeach201909071500  \n",
       "39464               9/20/16 13:00     CalumetBeach201609201300  \n",
       "39465               9/14/16 19:00    MontroseBeach201609141900  \n",
       "39466               9/11/19 11:00  OhioStreetBeach201909111100  \n",
       "39467               9/10/15 10:00    OstermanBeach201509101000  \n",
       "\n",
       "[38716 rows x 10 columns]"
      ]
     },
     "execution_count": 36,
     "metadata": {},
     "output_type": "execute_result"
    }
   ],
   "source": [
    "newdf=beach_quality_df[beach_quality_df.Wave_Height > 0]\n",
    "newdf"
   ]
  },
  {
   "cell_type": "code",
   "execution_count": 37,
   "metadata": {},
   "outputs": [
    {
     "data": {
      "text/plain": [
       "Beach_Name\n",
       "63rd Street Beach    0.155694\n",
       "Calumet Beach        0.152585\n",
       "Montrose Beach       0.202249\n",
       "Ohio Street Beach    0.163972\n",
       "Osterman Beach       0.184694\n",
       "Rainbow Beach        0.203868\n",
       "Name: Wave_Height, dtype: float64"
      ]
     },
     "execution_count": 37,
     "metadata": {},
     "output_type": "execute_result"
    }
   ],
   "source": [
    "Wave_Height = newdf.groupby(\"Beach_Name\")[\"Wave_Height\"].mean()\n",
    "Wave_Height"
   ]
  },
  {
   "cell_type": "code",
   "execution_count": 38,
   "metadata": {},
   "outputs": [
    {
     "data": {
      "image/png": "[encoded data removed]",
      "text/plain": [
       "<Figure size 432x288 with 1 Axes>"
      ]
     },
     "metadata": {
      "needs_background": "light"
     },
     "output_type": "display_data"
    }
   ],
   "source": [
    "xwaves = Wave_Height.plot.bar()"
   ]
  },
  {
   "cell_type": "code",
   "execution_count": 39,
   "metadata": {},
   "outputs": [],
   "source": [
    "result_wave_df = newdf.copy()"
   ]
  },
  {
   "cell_type": "code",
   "execution_count": 40,
   "metadata": {},
   "outputs": [],
   "source": [
    "result_wave_df[\"Date\"] = pd.to_datetime(result_wave_df[\"Measurement_Timestamp\"]).dt.date\n",
    "result_wave_df['Date']= pd.to_datetime(result_wave_df['Date']) \n"
   ]
  },
  {
   "cell_type": "code",
   "execution_count": 41,
   "metadata": {},
   "outputs": [
    {
     "name": "stdout",
     "output_type": "stream",
     "text": [
      "<class 'pandas.core.frame.DataFrame'>\n",
      "Int64Index: 38716 entries, 0 to 39467\n",
      "Data columns (total 11 columns):\n",
      " #   Column                       Non-Null Count  Dtype         \n",
      "---  ------                       --------------  -----         \n",
      " 0   Beach_Name                   38716 non-null  object        \n",
      " 1   Measurement_Timestamp        38716 non-null  object        \n",
      " 2   Water_Temperature            38716 non-null  float64       \n",
      " 3   Turbidity                    38716 non-null  float64       \n",
      " 4   Transducer_Depth             10034 non-null  float64       \n",
      " 5   Wave_Height                  38716 non-null  float64       \n",
      " 6   Wave_Period                  38716 non-null  float64       \n",
      " 7   Battery_Life                 38716 non-null  float64       \n",
      " 8   Measurement_Timestamp_Label  38716 non-null  object        \n",
      " 9   Measurement_ID               38716 non-null  object        \n",
      " 10  Date                         38716 non-null  datetime64[ns]\n",
      "dtypes: datetime64[ns](1), float64(6), object(4)\n",
      "memory usage: 3.5+ MB\n"
     ]
    },
    {
     "data": {
      "text/html": [
       "<div>\n",
       "<style scoped>\n",
       "    .dataframe tbody tr th:only-of-type {\n",
       "        vertical-align: middle;\n",
       "    }\n",
       "\n",
       "    .dataframe tbody tr th {\n",
       "        vertical-align: top;\n",
       "    }\n",
       "\n",
       "    .dataframe thead th {\n",
       "        text-align: right;\n",
       "    }\n",
       "</style>\n",
       "<table border=\"1\" class=\"dataframe\">\n",
       "  <thead>\n",
       "    <tr style=\"text-align: right;\">\n",
       "      <th></th>\n",
       "      <th>Beach_Name</th>\n",
       "      <th>Measurement_Timestamp</th>\n",
       "      <th>Water_Temperature</th>\n",
       "      <th>Turbidity</th>\n",
       "      <th>Transducer_Depth</th>\n",
       "      <th>Wave_Height</th>\n",
       "      <th>Wave_Period</th>\n",
       "      <th>Battery_Life</th>\n",
       "      <th>Measurement_Timestamp_Label</th>\n",
       "      <th>Measurement_ID</th>\n",
       "      <th>Date</th>\n",
       "    </tr>\n",
       "  </thead>\n",
       "  <tbody>\n",
       "    <tr>\n",
       "      <th>0</th>\n",
       "      <td>Ohio Street Beach</td>\n",
       "      <td>6/2/19 17:00</td>\n",
       "      <td>17.1</td>\n",
       "      <td>0.78</td>\n",
       "      <td>NaN</td>\n",
       "      <td>0.232</td>\n",
       "      <td>4.0</td>\n",
       "      <td>10.9</td>\n",
       "      <td>6/2/19 17:00</td>\n",
       "      <td>OhioStreetBeach201906021700</td>\n",
       "      <td>2019-06-02</td>\n",
       "    </tr>\n",
       "    <tr>\n",
       "      <th>1</th>\n",
       "      <td>63rd Street Beach</td>\n",
       "      <td>9/18/13 10:00</td>\n",
       "      <td>18.9</td>\n",
       "      <td>7.56</td>\n",
       "      <td>1.517</td>\n",
       "      <td>0.140</td>\n",
       "      <td>4.0</td>\n",
       "      <td>11.0</td>\n",
       "      <td>9/18/13 10:00</td>\n",
       "      <td>63rdStreetBeach201309181000</td>\n",
       "      <td>2013-09-18</td>\n",
       "    </tr>\n",
       "    <tr>\n",
       "      <th>2</th>\n",
       "      <td>63rd Street Beach</td>\n",
       "      <td>6/12/14 12:00</td>\n",
       "      <td>25.4</td>\n",
       "      <td>3.45</td>\n",
       "      <td>-0.072</td>\n",
       "      <td>0.031</td>\n",
       "      <td>9.0</td>\n",
       "      <td>12.2</td>\n",
       "      <td>6/12/14 12:00</td>\n",
       "      <td>63rdStreetBeach201406121200</td>\n",
       "      <td>2014-06-12</td>\n",
       "    </tr>\n",
       "    <tr>\n",
       "      <th>3</th>\n",
       "      <td>63rd Street Beach</td>\n",
       "      <td>6/12/14 13:00</td>\n",
       "      <td>18.1</td>\n",
       "      <td>3.31</td>\n",
       "      <td>1.818</td>\n",
       "      <td>0.339</td>\n",
       "      <td>10.0</td>\n",
       "      <td>12.2</td>\n",
       "      <td>6/12/14 13:00</td>\n",
       "      <td>63rdStreetBeach201406121300</td>\n",
       "      <td>2014-06-12</td>\n",
       "    </tr>\n",
       "    <tr>\n",
       "      <th>4</th>\n",
       "      <td>63rd Street Beach</td>\n",
       "      <td>6/12/14 14:00</td>\n",
       "      <td>17.5</td>\n",
       "      <td>2.93</td>\n",
       "      <td>1.545</td>\n",
       "      <td>0.136</td>\n",
       "      <td>4.0</td>\n",
       "      <td>12.2</td>\n",
       "      <td>6/12/14 14:00</td>\n",
       "      <td>63rdStreetBeach201406121400</td>\n",
       "      <td>2014-06-12</td>\n",
       "    </tr>\n",
       "    <tr>\n",
       "      <th>...</th>\n",
       "      <td>...</td>\n",
       "      <td>...</td>\n",
       "      <td>...</td>\n",
       "      <td>...</td>\n",
       "      <td>...</td>\n",
       "      <td>...</td>\n",
       "      <td>...</td>\n",
       "      <td>...</td>\n",
       "      <td>...</td>\n",
       "      <td>...</td>\n",
       "      <td>...</td>\n",
       "    </tr>\n",
       "    <tr>\n",
       "      <th>39462</th>\n",
       "      <td>Ohio Street Beach</td>\n",
       "      <td>9/7/19 15:00</td>\n",
       "      <td>19.2</td>\n",
       "      <td>20.78</td>\n",
       "      <td>NaN</td>\n",
       "      <td>0.192</td>\n",
       "      <td>4.0</td>\n",
       "      <td>10.5</td>\n",
       "      <td>9/7/19 15:00</td>\n",
       "      <td>OhioStreetBeach201909071500</td>\n",
       "      <td>2019-09-07</td>\n",
       "    </tr>\n",
       "    <tr>\n",
       "      <th>39464</th>\n",
       "      <td>Calumet Beach</td>\n",
       "      <td>9/20/16 13:00</td>\n",
       "      <td>21.7</td>\n",
       "      <td>3.15</td>\n",
       "      <td>NaN</td>\n",
       "      <td>0.389</td>\n",
       "      <td>3.0</td>\n",
       "      <td>9.4</td>\n",
       "      <td>9/20/16 13:00</td>\n",
       "      <td>CalumetBeach201609201300</td>\n",
       "      <td>2016-09-20</td>\n",
       "    </tr>\n",
       "    <tr>\n",
       "      <th>39465</th>\n",
       "      <td>Montrose Beach</td>\n",
       "      <td>9/14/16 19:00</td>\n",
       "      <td>21.9</td>\n",
       "      <td>0.01</td>\n",
       "      <td>NaN</td>\n",
       "      <td>0.360</td>\n",
       "      <td>3.0</td>\n",
       "      <td>9.4</td>\n",
       "      <td>9/14/16 19:00</td>\n",
       "      <td>MontroseBeach201609141900</td>\n",
       "      <td>2016-09-14</td>\n",
       "    </tr>\n",
       "    <tr>\n",
       "      <th>39466</th>\n",
       "      <td>Ohio Street Beach</td>\n",
       "      <td>9/11/19 11:00</td>\n",
       "      <td>23.8</td>\n",
       "      <td>0.00</td>\n",
       "      <td>NaN</td>\n",
       "      <td>0.028</td>\n",
       "      <td>10.0</td>\n",
       "      <td>10.2</td>\n",
       "      <td>9/11/19 11:00</td>\n",
       "      <td>OhioStreetBeach201909111100</td>\n",
       "      <td>2019-09-11</td>\n",
       "    </tr>\n",
       "    <tr>\n",
       "      <th>39467</th>\n",
       "      <td>Osterman Beach</td>\n",
       "      <td>9/10/15 10:00</td>\n",
       "      <td>18.6</td>\n",
       "      <td>0.37</td>\n",
       "      <td>NaN</td>\n",
       "      <td>0.159</td>\n",
       "      <td>2.0</td>\n",
       "      <td>11.6</td>\n",
       "      <td>9/10/15 10:00</td>\n",
       "      <td>OstermanBeach201509101000</td>\n",
       "      <td>2015-09-10</td>\n",
       "    </tr>\n",
       "  </tbody>\n",
       "</table>\n",
       "<p>38716 rows × 11 columns</p>\n",
       "</div>"
      ],
      "text/plain": [
       "              Beach_Name Measurement_Timestamp  Water_Temperature  Turbidity  \\\n",
       "0      Ohio Street Beach          6/2/19 17:00               17.1       0.78   \n",
       "1      63rd Street Beach         9/18/13 10:00               18.9       7.56   \n",
       "2      63rd Street Beach         6/12/14 12:00               25.4       3.45   \n",
       "3      63rd Street Beach         6/12/14 13:00               18.1       3.31   \n",
       "4      63rd Street Beach         6/12/14 14:00               17.5       2.93   \n",
       "...                  ...                   ...                ...        ...   \n",
       "39462  Ohio Street Beach          9/7/19 15:00               19.2      20.78   \n",
       "39464      Calumet Beach         9/20/16 13:00               21.7       3.15   \n",
       "39465     Montrose Beach         9/14/16 19:00               21.9       0.01   \n",
       "39466  Ohio Street Beach         9/11/19 11:00               23.8       0.00   \n",
       "39467     Osterman Beach         9/10/15 10:00               18.6       0.37   \n",
       "\n",
       "       Transducer_Depth  Wave_Height  Wave_Period  Battery_Life  \\\n",
       "0                   NaN        0.232          4.0          10.9   \n",
       "1                 1.517        0.140          4.0          11.0   \n",
       "2                -0.072        0.031          9.0          12.2   \n",
       "3                 1.818        0.339         10.0          12.2   \n",
       "4                 1.545        0.136          4.0          12.2   \n",
       "...                 ...          ...          ...           ...   \n",
       "39462               NaN        0.192          4.0          10.5   \n",
       "39464               NaN        0.389          3.0           9.4   \n",
       "39465               NaN        0.360          3.0           9.4   \n",
       "39466               NaN        0.028         10.0          10.2   \n",
       "39467               NaN        0.159          2.0          11.6   \n",
       "\n",
       "      Measurement_Timestamp_Label               Measurement_ID       Date  \n",
       "0                    6/2/19 17:00  OhioStreetBeach201906021700 2019-06-02  \n",
       "1                   9/18/13 10:00  63rdStreetBeach201309181000 2013-09-18  \n",
       "2                   6/12/14 12:00  63rdStreetBeach201406121200 2014-06-12  \n",
       "3                   6/12/14 13:00  63rdStreetBeach201406121300 2014-06-12  \n",
       "4                   6/12/14 14:00  63rdStreetBeach201406121400 2014-06-12  \n",
       "...                           ...                          ...        ...  \n",
       "39462                9/7/19 15:00  OhioStreetBeach201909071500 2019-09-07  \n",
       "39464               9/20/16 13:00     CalumetBeach201609201300 2016-09-20  \n",
       "39465               9/14/16 19:00    MontroseBeach201609141900 2016-09-14  \n",
       "39466               9/11/19 11:00  OhioStreetBeach201909111100 2019-09-11  \n",
       "39467               9/10/15 10:00    OstermanBeach201509101000 2015-09-10  \n",
       "\n",
       "[38716 rows x 11 columns]"
      ]
     },
     "execution_count": 41,
     "metadata": {},
     "output_type": "execute_result"
    }
   ],
   "source": [
    "result_wave_df.info()\n",
    "result_wave_df"
   ]
  },
  {
   "cell_type": "code",
   "execution_count": 42,
   "metadata": {},
   "outputs": [],
   "source": [
    "result_wave_2014_df = result_wave_df[(result_wave_df['Date'] > '12/31/2013') & (result_wave_df['Date'] < '01/01/2015')]\n",
    "result_wave_2015_df = result_wave_df[(result_wave_df['Date'] > '12/31/2014') & (result_wave_df['Date'] < '01/01/2016')]\n",
    "result_wave_2016_df = result_wave_df[(result_wave_df['Date'] > '12/31/2015') & (result_wave_df['Date'] < '01/01/2017')]\n",
    "result_wave_2017_df = result_wave_df[(result_wave_df['Date'] > '12/31/2016') & (result_wave_df['Date'] < '01/01/2018')]\n",
    "result_wave_2018_df = result_wave_df[(result_wave_df['Date'] > '12/31/2017') & (result_wave_df['Date'] < '01/01/2019')]\n",
    "result_wave_2019_df = result_wave_df[(result_wave_df['Date'] > '12/31/2018') & (result_wave_df['Date'] < '01/01/2020')]"
   ]
  },
  {
   "cell_type": "code",
   "execution_count": 43,
   "metadata": {},
   "outputs": [
    {
     "data": {
      "text/plain": [
       "Beach_Name\n",
       "63rd Street Beach    0.168338\n",
       "Calumet Beach        0.124145\n",
       "Montrose Beach       0.198716\n",
       "Ohio Street Beach    0.153828\n",
       "Osterman Beach       0.179666\n",
       "Rainbow Beach        0.170514\n",
       "Name: Wave_Height, dtype: float64"
      ]
     },
     "execution_count": 43,
     "metadata": {},
     "output_type": "execute_result"
    }
   ],
   "source": [
    "mu_wave_2014_df = result_wave_2014_df.groupby(\"Beach_Name\")[\"Wave_Height\"].mean()\n",
    "mu_wave_2014_df"
   ]
  },
  {
   "cell_type": "code",
   "execution_count": 44,
   "metadata": {},
   "outputs": [
    {
     "data": {
      "image/png": "[encoded data removed]",
      "text/plain": [
       "<Figure size 432x288 with 1 Axes>"
      ]
     },
     "metadata": {
      "needs_background": "light"
     },
     "output_type": "display_data"
    }
   ],
   "source": [
    "x = mu_wave_2014_df.plot.bar()"
   ]
  },
  {
   "cell_type": "code",
   "execution_count": 45,
   "metadata": {},
   "outputs": [
    {
     "data": {
      "text/plain": [
       "Beach_Name\n",
       "63rd Street Beach    0.150373\n",
       "Calumet Beach        0.139443\n",
       "Montrose Beach       0.203980\n",
       "Ohio Street Beach    0.138456\n",
       "Osterman Beach       0.188782\n",
       "Rainbow Beach        0.220085\n",
       "Name: Wave_Height, dtype: float64"
      ]
     },
     "execution_count": 45,
     "metadata": {},
     "output_type": "execute_result"
    }
   ],
   "source": [
    "mu_wave_2015_df = result_wave_2015_df.groupby(\"Beach_Name\")[\"Wave_Height\"].mean()\n",
    "mu_wave_2015_df"
   ]
  },
  {
   "cell_type": "code",
   "execution_count": 46,
   "metadata": {},
   "outputs": [
    {
     "data": {
      "image/png": "[encoded data removed]",
      "text/plain": [
       "<Figure size 432x288 with 1 Axes>"
      ]
     },
     "metadata": {
      "needs_background": "light"
     },
     "output_type": "display_data"
    }
   ],
   "source": [
    "x = mu_wave_2015_df.plot.bar()"
   ]
  },
  {
   "cell_type": "code",
   "execution_count": 47,
   "metadata": {},
   "outputs": [
    {
     "data": {
      "text/plain": [
       "Beach_Name\n",
       "Calumet Beach        0.193213\n",
       "Montrose Beach       0.203686\n",
       "Ohio Street Beach    0.152298\n",
       "Name: Wave_Height, dtype: float64"
      ]
     },
     "execution_count": 47,
     "metadata": {},
     "output_type": "execute_result"
    }
   ],
   "source": [
    "mu_wave_2016_df = result_wave_2016_df.groupby(\"Beach_Name\")[\"Wave_Height\"].mean()\n",
    "mu_wave_2016_df"
   ]
  },
  {
   "cell_type": "code",
   "execution_count": 48,
   "metadata": {},
   "outputs": [
    {
     "data": {
      "image/png": "[encoded data removed]",
      "text/plain": [
       "<Figure size 432x288 with 1 Axes>"
      ]
     },
     "metadata": {
      "needs_background": "light"
     },
     "output_type": "display_data"
    }
   ],
   "source": [
    "x = mu_wave_2016_df.plot.bar()"
   ]
  },
  {
   "cell_type": "code",
   "execution_count": 49,
   "metadata": {},
   "outputs": [
    {
     "data": {
      "text/plain": [
       "Beach_Name\n",
       "Ohio Street Beach    0.187\n",
       "Name: Wave_Height, dtype: float64"
      ]
     },
     "execution_count": 49,
     "metadata": {},
     "output_type": "execute_result"
    }
   ],
   "source": [
    "mu_wave_2017_df = result_wave_2017_df.groupby(\"Beach_Name\")[\"Wave_Height\"].mean()\n",
    "mu_wave_2017_df"
   ]
  },
  {
   "cell_type": "code",
   "execution_count": 50,
   "metadata": {},
   "outputs": [
    {
     "data": {
      "image/png": "[encoded data removed]",
      "text/plain": [
       "<Figure size 432x288 with 1 Axes>"
      ]
     },
     "metadata": {
      "needs_background": "light"
     },
     "output_type": "display_data"
    }
   ],
   "source": [
    "x = mu_wave_2017_df.plot.bar()"
   ]
  },
  {
   "cell_type": "code",
   "execution_count": 51,
   "metadata": {},
   "outputs": [
    {
     "data": {
      "text/plain": [
       "Beach_Name\n",
       "Calumet Beach        0.389000\n",
       "Ohio Street Beach    0.178346\n",
       "Name: Wave_Height, dtype: float64"
      ]
     },
     "execution_count": 51,
     "metadata": {},
     "output_type": "execute_result"
    }
   ],
   "source": [
    "mu_wave_2018_df = result_wave_2018_df.groupby(\"Beach_Name\")[\"Wave_Height\"].mean()\n",
    "mu_wave_2018_df"
   ]
  },
  {
   "cell_type": "code",
   "execution_count": 52,
   "metadata": {},
   "outputs": [
    {
     "data": {
      "image/png": "[encoded data removed]",
      "text/plain": [
       "<Figure size 432x288 with 1 Axes>"
      ]
     },
     "metadata": {
      "needs_background": "light"
     },
     "output_type": "display_data"
    }
   ],
   "source": [
    "x = mu_wave_2018_df.plot.bar()"
   ]
  },
  {
   "cell_type": "code",
   "execution_count": 53,
   "metadata": {},
   "outputs": [
    {
     "data": {
      "text/plain": [
       "Beach_Name\n",
       "Ohio Street Beach    0.168164\n",
       "Name: Wave_Height, dtype: float64"
      ]
     },
     "execution_count": 53,
     "metadata": {},
     "output_type": "execute_result"
    }
   ],
   "source": [
    "mu_wave_2019_df = result_wave_2019_df.groupby(\"Beach_Name\")[\"Wave_Height\"].mean()\n",
    "mu_wave_2019_df"
   ]
  },
  {
   "cell_type": "code",
   "execution_count": 54,
   "metadata": {},
   "outputs": [
    {
     "data": {
      "image/png": "[encoded data removed]",
      "text/plain": [
       "<Figure size 432x288 with 1 Axes>"
      ]
     },
     "metadata": {
      "needs_background": "light"
     },
     "output_type": "display_data"
    }
   ],
   "source": [
    "x = mu_wave_2019_df.plot.bar()"
   ]
  },
  {
   "cell_type": "code",
   "execution_count": 55,
   "metadata": {},
   "outputs": [
    {
     "data": {
      "image/png": "[encoded data removed]",
      "text/plain": [
       "<Figure size 432x288 with 1 Axes>"
      ]
     },
     "metadata": {
      "needs_background": "light"
     },
     "output_type": "display_data"
    }
   ],
   "source": [
    "# Compare 2014/2015 Wave height\n",
    "plt.title(\"Wave Height 2014 & 2015\")\n",
    "plt.xlabel(\"Beaches\")\n",
    "plt.ylabel(\"Wave Height\")\n",
    "plt.grid()\n",
    "\n",
    "plt.plot(mu_wave_2014_df)\n",
    "plt.plot(mu_wave_2015_df)\n",
    "plt.savefig(\"wave_hgt_201415.png\")\n",
    "plt.show();"
   ]
  },
  {
   "cell_type": "code",
   "execution_count": 56,
   "metadata": {},
   "outputs": [
    {
     "name": "stdout",
     "output_type": "stream",
     "text": [
      "6\n"
     ]
    }
   ],
   "source": [
    "mu_turbidity_2014_df\n",
    "print(len(mu_turbidity_2014_df))"
   ]
  },
  {
   "cell_type": "code",
   "execution_count": 57,
   "metadata": {},
   "outputs": [
    {
     "data": {
      "text/plain": [
       "Beach Name\n",
       "63rd Street Beach     2.608415\n",
       "Calumet Beach         2.087182\n",
       "Montrose Beach        3.929488\n",
       "Ohio Street Beach     1.977578\n",
       "Osterman Beach       12.451613\n",
       "Rainbow Beach         3.980990\n",
       "Name: Turbidity, dtype: float64"
      ]
     },
     "execution_count": 57,
     "metadata": {},
     "output_type": "execute_result"
    }
   ],
   "source": [
    "mu_turbidity_2015_df\n",
    "#mu_turbidity_2015_df.info()"
   ]
  },
  {
   "cell_type": "code",
   "execution_count": 58,
   "metadata": {},
   "outputs": [
    {
     "data": {
      "image/png": "[encoded data removed]",
      "text/plain": [
       "<Figure size 432x288 with 1 Axes>"
      ]
     },
     "metadata": {
      "needs_background": "light"
     },
     "output_type": "display_data"
    }
   ],
   "source": [
    "# Compare 2014/2015 Turbidity \n",
    "plt.title(\"Turbidity  2014 & 2015\")\n",
    "plt.xlabel(\"Beaches\")\n",
    "plt.ylabel(\"Turbidity \")\n",
    "plt.grid()\n",
    "\n",
    "plt.plot(mu_turbidity_2014_df)\n",
    "plt.plot(mu_turbidity_2015_df)\n",
    "\n",
    "plt.savefig(\"turbidity_h201415.png\")\n",
    "plt.show();"
   ]
  },
  {
   "cell_type": "code",
   "execution_count": null,
   "metadata": {},
   "outputs": [],
   "source": []
  }
 ],
 "metadata": {
  "kernelspec": {
   "display_name": "Python 3",
   "language": "python",
   "name": "python3"
  },
  "language_info": {
   "codemirror_mode": {
    "name": "ipython",
    "version": 3
   },
   "file_extension": ".py",
   "mimetype": "text/x-python",
   "name": "python",
   "nbconvert_exporter": "python",
   "pygments_lexer": "ipython3",
   "version": "3.7.6"
  }
 },
 "nbformat": 4,
 "nbformat_minor": 4
}
